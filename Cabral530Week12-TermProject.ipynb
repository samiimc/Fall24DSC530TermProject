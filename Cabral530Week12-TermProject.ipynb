{
 "cells": [
  {
   "cell_type": "markdown",
   "id": "688317d9",
   "metadata": {},
   "source": [
    "# Billboard Hot 100 Chart Data Analysis and Exploration\n",
    "\n",
    "\n",
    "Samantha Cabral\n",
    "DSC 530 - Data Exploration and Analysis\n",
    "Prof. Metzger\n",
    "Due: November 17, 2024\n",
    "Final Term Project\n",
    "\n",
    "\n",
    "Data Set:\n",
    "\n",
    "Billboard Hot 100 (Top 100) Songs each week from August 4, 1958 through November 6, 2021.\n",
    "\n",
    "Statistical Question:\n",
    "\n",
    "Do songs that debut in the top 10 stay on the chart longer than songs that debut between ranks 11 and 100?"
   ]
  },
  {
   "cell_type": "code",
   "execution_count": 82,
   "id": "89f3c335",
   "metadata": {},
   "outputs": [],
   "source": [
    "import pandas as pd\n",
    "import numpy as np\n",
    "import matplotlib.pyplot as plt\n",
    "import seaborn as sns\n",
    "\n",
    "from scipy.stats import mode, skew, expon, pearsonr, spearmanr\n",
    "from collections import Counter"
   ]
  },
  {
   "cell_type": "code",
   "execution_count": 3,
   "id": "eb9506d3",
   "metadata": {},
   "outputs": [
    {
     "name": "stdout",
     "output_type": "stream",
     "text": [
      "<class 'pandas.core.frame.DataFrame'>\n",
      "RangeIndex: 330087 entries, 0 to 330086\n",
      "Data columns (total 7 columns):\n",
      " #   Column          Non-Null Count   Dtype  \n",
      "---  ------          --------------   -----  \n",
      " 0   date            330087 non-null  object \n",
      " 1   rank            330087 non-null  int64  \n",
      " 2   song            330087 non-null  object \n",
      " 3   artist          330087 non-null  object \n",
      " 4   last-week       297775 non-null  float64\n",
      " 5   peak-rank       330087 non-null  int64  \n",
      " 6   weeks-on-board  330087 non-null  int64  \n",
      "dtypes: float64(1), int64(3), object(3)\n",
      "memory usage: 17.6+ MB\n",
      "None\n",
      "                rank      last-week      peak-rank  weeks-on-board\n",
      "count  330087.000000  297775.000000  330087.000000   330087.000000\n",
      "mean       50.500929      47.591631      40.970629        9.161785\n",
      "std        28.866094      28.054360      29.347481        7.618264\n",
      "min         1.000000       1.000000       1.000000        1.000000\n",
      "25%        26.000000      23.000000      13.000000        4.000000\n",
      "50%        51.000000      47.000000      38.000000        7.000000\n",
      "75%        76.000000      72.000000      65.000000       13.000000\n",
      "max       100.000000     100.000000     100.000000       90.000000\n"
     ]
    },
    {
     "data": {
      "text/html": [
       "<div>\n",
       "<style scoped>\n",
       "    .dataframe tbody tr th:only-of-type {\n",
       "        vertical-align: middle;\n",
       "    }\n",
       "\n",
       "    .dataframe tbody tr th {\n",
       "        vertical-align: top;\n",
       "    }\n",
       "\n",
       "    .dataframe thead th {\n",
       "        text-align: right;\n",
       "    }\n",
       "</style>\n",
       "<table border=\"1\" class=\"dataframe\">\n",
       "  <thead>\n",
       "    <tr style=\"text-align: right;\">\n",
       "      <th></th>\n",
       "      <th>date</th>\n",
       "      <th>rank</th>\n",
       "      <th>song</th>\n",
       "      <th>artist</th>\n",
       "      <th>last-week</th>\n",
       "      <th>peak-rank</th>\n",
       "      <th>weeks-on-board</th>\n",
       "    </tr>\n",
       "  </thead>\n",
       "  <tbody>\n",
       "    <tr>\n",
       "      <th>0</th>\n",
       "      <td>2021-11-06</td>\n",
       "      <td>1</td>\n",
       "      <td>Easy On Me</td>\n",
       "      <td>Adele</td>\n",
       "      <td>1.0</td>\n",
       "      <td>1</td>\n",
       "      <td>3</td>\n",
       "    </tr>\n",
       "    <tr>\n",
       "      <th>1</th>\n",
       "      <td>2021-11-06</td>\n",
       "      <td>2</td>\n",
       "      <td>Stay</td>\n",
       "      <td>The Kid LAROI &amp; Justin Bieber</td>\n",
       "      <td>2.0</td>\n",
       "      <td>1</td>\n",
       "      <td>16</td>\n",
       "    </tr>\n",
       "    <tr>\n",
       "      <th>2</th>\n",
       "      <td>2021-11-06</td>\n",
       "      <td>3</td>\n",
       "      <td>Industry Baby</td>\n",
       "      <td>Lil Nas X &amp; Jack Harlow</td>\n",
       "      <td>3.0</td>\n",
       "      <td>1</td>\n",
       "      <td>14</td>\n",
       "    </tr>\n",
       "    <tr>\n",
       "      <th>3</th>\n",
       "      <td>2021-11-06</td>\n",
       "      <td>4</td>\n",
       "      <td>Fancy Like</td>\n",
       "      <td>Walker Hayes</td>\n",
       "      <td>4.0</td>\n",
       "      <td>3</td>\n",
       "      <td>19</td>\n",
       "    </tr>\n",
       "    <tr>\n",
       "      <th>4</th>\n",
       "      <td>2021-11-06</td>\n",
       "      <td>5</td>\n",
       "      <td>Bad Habits</td>\n",
       "      <td>Ed Sheeran</td>\n",
       "      <td>5.0</td>\n",
       "      <td>2</td>\n",
       "      <td>18</td>\n",
       "    </tr>\n",
       "  </tbody>\n",
       "</table>\n",
       "</div>"
      ],
      "text/plain": [
       "         date  rank           song                         artist  last-week  \\\n",
       "0  2021-11-06     1     Easy On Me                          Adele        1.0   \n",
       "1  2021-11-06     2           Stay  The Kid LAROI & Justin Bieber        2.0   \n",
       "2  2021-11-06     3  Industry Baby        Lil Nas X & Jack Harlow        3.0   \n",
       "3  2021-11-06     4     Fancy Like                   Walker Hayes        4.0   \n",
       "4  2021-11-06     5     Bad Habits                     Ed Sheeran        5.0   \n",
       "\n",
       "   peak-rank  weeks-on-board  \n",
       "0          1               3  \n",
       "1          1              16  \n",
       "2          1              14  \n",
       "3          3              19  \n",
       "4          2              18  "
      ]
     },
     "execution_count": 3,
     "metadata": {},
     "output_type": "execute_result"
    }
   ],
   "source": [
    "#Load the Dataset\n",
    "\n",
    "charts_df = pd.read_csv('charts.csv')\n",
    "print(charts_df.info())\n",
    "print(charts_df.describe())\n",
    "charts_df.head()"
   ]
  },
  {
   "cell_type": "code",
   "execution_count": 4,
   "id": "9d8049de",
   "metadata": {},
   "outputs": [
    {
     "name": "stdout",
     "output_type": "stream",
     "text": [
      "<class 'pandas.core.frame.DataFrame'>\n",
      "RangeIndex: 330087 entries, 0 to 330086\n",
      "Data columns (total 7 columns):\n",
      " #   Column          Non-Null Count   Dtype         \n",
      "---  ------          --------------   -----         \n",
      " 0   date            330087 non-null  datetime64[ns]\n",
      " 1   rank            330087 non-null  int64         \n",
      " 2   song            330087 non-null  object        \n",
      " 3   artist          330087 non-null  object        \n",
      " 4   last-week       297775 non-null  float64       \n",
      " 5   peak-rank       330087 non-null  int64         \n",
      " 6   weeks-on-board  330087 non-null  int64         \n",
      "dtypes: datetime64[ns](1), float64(1), int64(3), object(2)\n",
      "memory usage: 17.6+ MB\n",
      "None\n"
     ]
    },
    {
     "data": {
      "text/html": [
       "<div>\n",
       "<style scoped>\n",
       "    .dataframe tbody tr th:only-of-type {\n",
       "        vertical-align: middle;\n",
       "    }\n",
       "\n",
       "    .dataframe tbody tr th {\n",
       "        vertical-align: top;\n",
       "    }\n",
       "\n",
       "    .dataframe thead th {\n",
       "        text-align: right;\n",
       "    }\n",
       "</style>\n",
       "<table border=\"1\" class=\"dataframe\">\n",
       "  <thead>\n",
       "    <tr style=\"text-align: right;\">\n",
       "      <th></th>\n",
       "      <th>date</th>\n",
       "      <th>rank</th>\n",
       "      <th>song</th>\n",
       "      <th>artist</th>\n",
       "      <th>last-week</th>\n",
       "      <th>peak-rank</th>\n",
       "      <th>weeks-on-board</th>\n",
       "    </tr>\n",
       "  </thead>\n",
       "  <tbody>\n",
       "    <tr>\n",
       "      <th>0</th>\n",
       "      <td>2021-11-06</td>\n",
       "      <td>1</td>\n",
       "      <td>Easy On Me</td>\n",
       "      <td>Adele</td>\n",
       "      <td>1.0</td>\n",
       "      <td>1</td>\n",
       "      <td>3</td>\n",
       "    </tr>\n",
       "    <tr>\n",
       "      <th>1</th>\n",
       "      <td>2021-11-06</td>\n",
       "      <td>2</td>\n",
       "      <td>Stay</td>\n",
       "      <td>The Kid LAROI &amp; Justin Bieber</td>\n",
       "      <td>2.0</td>\n",
       "      <td>1</td>\n",
       "      <td>16</td>\n",
       "    </tr>\n",
       "    <tr>\n",
       "      <th>2</th>\n",
       "      <td>2021-11-06</td>\n",
       "      <td>3</td>\n",
       "      <td>Industry Baby</td>\n",
       "      <td>Lil Nas X &amp; Jack Harlow</td>\n",
       "      <td>3.0</td>\n",
       "      <td>1</td>\n",
       "      <td>14</td>\n",
       "    </tr>\n",
       "    <tr>\n",
       "      <th>3</th>\n",
       "      <td>2021-11-06</td>\n",
       "      <td>4</td>\n",
       "      <td>Fancy Like</td>\n",
       "      <td>Walker Hayes</td>\n",
       "      <td>4.0</td>\n",
       "      <td>3</td>\n",
       "      <td>19</td>\n",
       "    </tr>\n",
       "    <tr>\n",
       "      <th>4</th>\n",
       "      <td>2021-11-06</td>\n",
       "      <td>5</td>\n",
       "      <td>Bad Habits</td>\n",
       "      <td>Ed Sheeran</td>\n",
       "      <td>5.0</td>\n",
       "      <td>2</td>\n",
       "      <td>18</td>\n",
       "    </tr>\n",
       "  </tbody>\n",
       "</table>\n",
       "</div>"
      ],
      "text/plain": [
       "        date  rank           song                         artist  last-week  \\\n",
       "0 2021-11-06     1     Easy On Me                          Adele        1.0   \n",
       "1 2021-11-06     2           Stay  The Kid LAROI & Justin Bieber        2.0   \n",
       "2 2021-11-06     3  Industry Baby        Lil Nas X & Jack Harlow        3.0   \n",
       "3 2021-11-06     4     Fancy Like                   Walker Hayes        4.0   \n",
       "4 2021-11-06     5     Bad Habits                     Ed Sheeran        5.0   \n",
       "\n",
       "   peak-rank  weeks-on-board  \n",
       "0          1               3  \n",
       "1          1              16  \n",
       "2          1              14  \n",
       "3          3              19  \n",
       "4          2              18  "
      ]
     },
     "execution_count": 4,
     "metadata": {},
     "output_type": "execute_result"
    }
   ],
   "source": [
    "#Convert \"date\" column to datetime type\n",
    "charts_df['date'] = pd.to_datetime(charts_df['date'])\n",
    "\n",
    "print(charts_df.info())\n",
    "charts_df.head()"
   ]
  },
  {
   "cell_type": "code",
   "execution_count": 5,
   "id": "d3baeb38",
   "metadata": {},
   "outputs": [
    {
     "name": "stdout",
     "output_type": "stream",
     "text": [
      "Top 10 Debuts: 355 songs\n",
      "11-100 Debuts: 29329 songs\n"
     ]
    }
   ],
   "source": [
    "#Create \"debut_top_10\" DataFrame that only contains data for songs that fit these criteria:\n",
    "#-'weeks-on-board' is '1'\n",
    "#-'rank' is <= 10\n",
    "\n",
    "debut_top_10 = charts_df[(charts_df['weeks-on-board'] == 1) & (charts_df['rank'] <= 10)]\n",
    "\n",
    "\n",
    "#Create \"debut_11_100\" DataFrame that only contains data for songs that fit these criteria:\n",
    "#-'weeks-on-board' is '1'\n",
    "#-'rank' is > 10\n",
    "\n",
    "debut_11_100 = charts_df[(charts_df['weeks-on-board'] == 1) & (charts_df['rank'] > 10)]\n",
    "\n",
    "\n",
    "# Preview the groups\n",
    "print(f\"Top 10 Debuts: {debut_top_10.shape[0]} songs\")\n",
    "print(f\"11-100 Debuts: {debut_11_100.shape[0]} songs\")"
   ]
  },
  {
   "cell_type": "code",
   "execution_count": 6,
   "id": "7be84403",
   "metadata": {},
   "outputs": [
    {
     "data": {
      "text/html": [
       "<div>\n",
       "<style scoped>\n",
       "    .dataframe tbody tr th:only-of-type {\n",
       "        vertical-align: middle;\n",
       "    }\n",
       "\n",
       "    .dataframe tbody tr th {\n",
       "        vertical-align: top;\n",
       "    }\n",
       "\n",
       "    .dataframe thead th {\n",
       "        text-align: right;\n",
       "    }\n",
       "</style>\n",
       "<table border=\"1\" class=\"dataframe\">\n",
       "  <thead>\n",
       "    <tr style=\"text-align: right;\">\n",
       "      <th></th>\n",
       "      <th>date</th>\n",
       "      <th>rank</th>\n",
       "      <th>song</th>\n",
       "      <th>artist</th>\n",
       "      <th>last-week</th>\n",
       "      <th>peak-rank</th>\n",
       "      <th>weeks-on-board</th>\n",
       "    </tr>\n",
       "  </thead>\n",
       "  <tbody>\n",
       "    <tr>\n",
       "      <th>400</th>\n",
       "      <td>2021-10-09</td>\n",
       "      <td>1</td>\n",
       "      <td>My Universe</td>\n",
       "      <td>Coldplay x BTS</td>\n",
       "      <td>NaN</td>\n",
       "      <td>1</td>\n",
       "      <td>1</td>\n",
       "    </tr>\n",
       "    <tr>\n",
       "      <th>509</th>\n",
       "      <td>2021-10-02</td>\n",
       "      <td>10</td>\n",
       "      <td>Thats What I Want</td>\n",
       "      <td>Lil Nas X</td>\n",
       "      <td>NaN</td>\n",
       "      <td>10</td>\n",
       "      <td>1</td>\n",
       "    </tr>\n",
       "    <tr>\n",
       "      <th>700</th>\n",
       "      <td>2021-09-18</td>\n",
       "      <td>1</td>\n",
       "      <td>Way 2 Sexy</td>\n",
       "      <td>Drake Featuring Future &amp; Young Thug</td>\n",
       "      <td>NaN</td>\n",
       "      <td>1</td>\n",
       "      <td>1</td>\n",
       "    </tr>\n",
       "    <tr>\n",
       "      <th>701</th>\n",
       "      <td>2021-09-18</td>\n",
       "      <td>2</td>\n",
       "      <td>Girls Want Girls</td>\n",
       "      <td>Drake Featuring Lil Baby</td>\n",
       "      <td>NaN</td>\n",
       "      <td>2</td>\n",
       "      <td>1</td>\n",
       "    </tr>\n",
       "    <tr>\n",
       "      <th>702</th>\n",
       "      <td>2021-09-18</td>\n",
       "      <td>3</td>\n",
       "      <td>Fair Trade</td>\n",
       "      <td>Drake Featuring Travis Scott</td>\n",
       "      <td>NaN</td>\n",
       "      <td>3</td>\n",
       "      <td>1</td>\n",
       "    </tr>\n",
       "  </tbody>\n",
       "</table>\n",
       "</div>"
      ],
      "text/plain": [
       "          date  rank               song                               artist  \\\n",
       "400 2021-10-09     1        My Universe                       Coldplay x BTS   \n",
       "509 2021-10-02    10  Thats What I Want                            Lil Nas X   \n",
       "700 2021-09-18     1         Way 2 Sexy  Drake Featuring Future & Young Thug   \n",
       "701 2021-09-18     2   Girls Want Girls             Drake Featuring Lil Baby   \n",
       "702 2021-09-18     3         Fair Trade         Drake Featuring Travis Scott   \n",
       "\n",
       "     last-week  peak-rank  weeks-on-board  \n",
       "400        NaN          1               1  \n",
       "509        NaN         10               1  \n",
       "700        NaN          1               1  \n",
       "701        NaN          2               1  \n",
       "702        NaN          3               1  "
      ]
     },
     "execution_count": 6,
     "metadata": {},
     "output_type": "execute_result"
    }
   ],
   "source": [
    "debut_top_10.head()"
   ]
  },
  {
   "cell_type": "code",
   "execution_count": 7,
   "id": "fc87cc8f",
   "metadata": {},
   "outputs": [
    {
     "data": {
      "text/html": [
       "<div>\n",
       "<style scoped>\n",
       "    .dataframe tbody tr th:only-of-type {\n",
       "        vertical-align: middle;\n",
       "    }\n",
       "\n",
       "    .dataframe tbody tr th {\n",
       "        vertical-align: top;\n",
       "    }\n",
       "\n",
       "    .dataframe thead th {\n",
       "        text-align: right;\n",
       "    }\n",
       "</style>\n",
       "<table border=\"1\" class=\"dataframe\">\n",
       "  <thead>\n",
       "    <tr style=\"text-align: right;\">\n",
       "      <th></th>\n",
       "      <th>date</th>\n",
       "      <th>rank</th>\n",
       "      <th>song</th>\n",
       "      <th>artist</th>\n",
       "      <th>last-week</th>\n",
       "      <th>peak-rank</th>\n",
       "      <th>weeks-on-board</th>\n",
       "    </tr>\n",
       "  </thead>\n",
       "  <tbody>\n",
       "    <tr>\n",
       "      <th>26</th>\n",
       "      <td>2021-11-06</td>\n",
       "      <td>27</td>\n",
       "      <td>Moth To A Flame</td>\n",
       "      <td>Swedish House Mafia &amp; The Weeknd</td>\n",
       "      <td>NaN</td>\n",
       "      <td>27</td>\n",
       "      <td>1</td>\n",
       "    </tr>\n",
       "    <tr>\n",
       "      <th>27</th>\n",
       "      <td>2021-11-06</td>\n",
       "      <td>28</td>\n",
       "      <td>Let's Go Brandon</td>\n",
       "      <td>Bryson Gray Featuring Tyson James &amp; Chandler C...</td>\n",
       "      <td>NaN</td>\n",
       "      <td>28</td>\n",
       "      <td>1</td>\n",
       "    </tr>\n",
       "    <tr>\n",
       "      <th>60</th>\n",
       "      <td>2021-11-06</td>\n",
       "      <td>61</td>\n",
       "      <td>Not In The Mood</td>\n",
       "      <td>Lil Tjay, Fivio Foreign &amp; Kay Flock</td>\n",
       "      <td>NaN</td>\n",
       "      <td>61</td>\n",
       "      <td>1</td>\n",
       "    </tr>\n",
       "    <tr>\n",
       "      <th>68</th>\n",
       "      <td>2021-11-06</td>\n",
       "      <td>69</td>\n",
       "      <td>Switches &amp; Dracs</td>\n",
       "      <td>Moneybagg Yo Featuring Lil Durk &amp; EST Gee</td>\n",
       "      <td>NaN</td>\n",
       "      <td>69</td>\n",
       "      <td>1</td>\n",
       "    </tr>\n",
       "    <tr>\n",
       "      <th>78</th>\n",
       "      <td>2021-11-06</td>\n",
       "      <td>79</td>\n",
       "      <td>Poke It Out</td>\n",
       "      <td>Wale Featuring J. Cole</td>\n",
       "      <td>NaN</td>\n",
       "      <td>79</td>\n",
       "      <td>1</td>\n",
       "    </tr>\n",
       "  </tbody>\n",
       "</table>\n",
       "</div>"
      ],
      "text/plain": [
       "         date  rank              song  \\\n",
       "26 2021-11-06    27   Moth To A Flame   \n",
       "27 2021-11-06    28  Let's Go Brandon   \n",
       "60 2021-11-06    61   Not In The Mood   \n",
       "68 2021-11-06    69  Switches & Dracs   \n",
       "78 2021-11-06    79       Poke It Out   \n",
       "\n",
       "                                               artist  last-week  peak-rank  \\\n",
       "26                   Swedish House Mafia & The Weeknd        NaN         27   \n",
       "27  Bryson Gray Featuring Tyson James & Chandler C...        NaN         28   \n",
       "60                Lil Tjay, Fivio Foreign & Kay Flock        NaN         61   \n",
       "68          Moneybagg Yo Featuring Lil Durk & EST Gee        NaN         69   \n",
       "78                             Wale Featuring J. Cole        NaN         79   \n",
       "\n",
       "    weeks-on-board  \n",
       "26               1  \n",
       "27               1  \n",
       "60               1  \n",
       "68               1  \n",
       "78               1  "
      ]
     },
     "execution_count": 7,
     "metadata": {},
     "output_type": "execute_result"
    }
   ],
   "source": [
    "debut_11_100.head()"
   ]
  },
  {
   "cell_type": "code",
   "execution_count": 8,
   "id": "fc5f45ee",
   "metadata": {},
   "outputs": [],
   "source": [
    "#Find the largest 'weeks-on-board' value for songs in a DataFrame. \n",
    "\n",
    "def songLongevity(charts_df, debut_df):\n",
    "    \"\"\"\n",
    "    charts_df: Original dataset containing chart information\n",
    "    debut_df: DataFrame containing songs that should be compared to charts_df\n",
    "      - in this case, we will compare songs in the debut_top_10 or debut_11_100 dfs\n",
    "    \n",
    "    filters songs to remove repeated song data for weeks other than their final week\n",
    "    \n",
    "    returns a DataFrame containing rows of data for songs during their final appearance on the chart\n",
    "    based on the return of the largest value in 'weeks-on-board' for songs that appear in the debut_df\n",
    "    \"\"\"\n",
    "    \n",
    "    filtered_songs = charts_df[\n",
    "        charts_df['song'].isin(debut_df['song']) & charts_df['artist'].isin(debut_df['artist'])\n",
    "    ]\n",
    "    \n",
    "    last_appearance = filtered_songs.loc[\n",
    "        filtered_songs.groupby(['song', 'artist'])['weeks-on-board'].idxmax()\n",
    "    ]\n",
    "    \n",
    "    return last_appearance"
   ]
  },
  {
   "cell_type": "code",
   "execution_count": 9,
   "id": "2d853865",
   "metadata": {},
   "outputs": [
    {
     "data": {
      "text/html": [
       "<div>\n",
       "<style scoped>\n",
       "    .dataframe tbody tr th:only-of-type {\n",
       "        vertical-align: middle;\n",
       "    }\n",
       "\n",
       "    .dataframe tbody tr th {\n",
       "        vertical-align: top;\n",
       "    }\n",
       "\n",
       "    .dataframe thead th {\n",
       "        text-align: right;\n",
       "    }\n",
       "</style>\n",
       "<table border=\"1\" class=\"dataframe\">\n",
       "  <thead>\n",
       "    <tr style=\"text-align: right;\">\n",
       "      <th></th>\n",
       "      <th>date</th>\n",
       "      <th>rank</th>\n",
       "      <th>song</th>\n",
       "      <th>artist</th>\n",
       "      <th>last-week</th>\n",
       "      <th>peak-rank</th>\n",
       "      <th>weeks-on-board</th>\n",
       "    </tr>\n",
       "  </thead>\n",
       "  <tbody>\n",
       "    <tr>\n",
       "      <th>19795</th>\n",
       "      <td>2018-01-27</td>\n",
       "      <td>96</td>\n",
       "      <td>...Ready For It?</td>\n",
       "      <td>Taylor Swift</td>\n",
       "      <td>80.0</td>\n",
       "      <td>4</td>\n",
       "      <td>20</td>\n",
       "    </tr>\n",
       "    <tr>\n",
       "      <th>7845</th>\n",
       "      <td>2020-05-09</td>\n",
       "      <td>46</td>\n",
       "      <td>10,000 Hours</td>\n",
       "      <td>Dan + Shay &amp; Justin Bieber</td>\n",
       "      <td>41.0</td>\n",
       "      <td>4</td>\n",
       "      <td>30</td>\n",
       "    </tr>\n",
       "    <tr>\n",
       "      <th>124148</th>\n",
       "      <td>1998-01-24</td>\n",
       "      <td>49</td>\n",
       "      <td>2 Become 1</td>\n",
       "      <td>Spice Girls</td>\n",
       "      <td>44.0</td>\n",
       "      <td>4</td>\n",
       "      <td>24</td>\n",
       "    </tr>\n",
       "    <tr>\n",
       "      <th>22249</th>\n",
       "      <td>2017-08-05</td>\n",
       "      <td>50</td>\n",
       "      <td>24K Magic</td>\n",
       "      <td>Bruno Mars</td>\n",
       "      <td>48.0</td>\n",
       "      <td>4</td>\n",
       "      <td>41</td>\n",
       "    </tr>\n",
       "    <tr>\n",
       "      <th>60971</th>\n",
       "      <td>2010-03-06</td>\n",
       "      <td>72</td>\n",
       "      <td>3</td>\n",
       "      <td>Britney Spears</td>\n",
       "      <td>63.0</td>\n",
       "      <td>1</td>\n",
       "      <td>20</td>\n",
       "    </tr>\n",
       "  </tbody>\n",
       "</table>\n",
       "</div>"
      ],
      "text/plain": [
       "             date  rank              song                      artist  \\\n",
       "19795  2018-01-27    96  ...Ready For It?                Taylor Swift   \n",
       "7845   2020-05-09    46      10,000 Hours  Dan + Shay & Justin Bieber   \n",
       "124148 1998-01-24    49        2 Become 1                 Spice Girls   \n",
       "22249  2017-08-05    50         24K Magic                  Bruno Mars   \n",
       "60971  2010-03-06    72                 3              Britney Spears   \n",
       "\n",
       "        last-week  peak-rank  weeks-on-board  \n",
       "19795        80.0          4              20  \n",
       "7845         41.0          4              30  \n",
       "124148       44.0          4              24  \n",
       "22249        48.0          4              41  \n",
       "60971        63.0          1              20  "
      ]
     },
     "execution_count": 9,
     "metadata": {},
     "output_type": "execute_result"
    }
   ],
   "source": [
    "top10_last_apperance_df = songLongevity(charts_df, debut_top_10)\n",
    "top10_last_apperance_df.head()"
   ]
  },
  {
   "cell_type": "code",
   "execution_count": 10,
   "id": "7dcd7dee",
   "metadata": {},
   "outputs": [
    {
     "data": {
      "text/html": [
       "<div>\n",
       "<style scoped>\n",
       "    .dataframe tbody tr th:only-of-type {\n",
       "        vertical-align: middle;\n",
       "    }\n",
       "\n",
       "    .dataframe tbody tr th {\n",
       "        vertical-align: top;\n",
       "    }\n",
       "\n",
       "    .dataframe thead th {\n",
       "        text-align: right;\n",
       "    }\n",
       "</style>\n",
       "<table border=\"1\" class=\"dataframe\">\n",
       "  <thead>\n",
       "    <tr style=\"text-align: right;\">\n",
       "      <th></th>\n",
       "      <th>date</th>\n",
       "      <th>rank</th>\n",
       "      <th>song</th>\n",
       "      <th>artist</th>\n",
       "      <th>last-week</th>\n",
       "      <th>peak-rank</th>\n",
       "      <th>weeks-on-board</th>\n",
       "    </tr>\n",
       "  </thead>\n",
       "  <tbody>\n",
       "    <tr>\n",
       "      <th>163090</th>\n",
       "      <td>1990-08-11</td>\n",
       "      <td>91</td>\n",
       "      <td>\"B\" Girls</td>\n",
       "      <td>Young And Restless</td>\n",
       "      <td>83.0</td>\n",
       "      <td>54</td>\n",
       "      <td>15</td>\n",
       "    </tr>\n",
       "    <tr>\n",
       "      <th>252937</th>\n",
       "      <td>1973-05-19</td>\n",
       "      <td>51</td>\n",
       "      <td>\"Cherry Cherry\" from Hot August Night</td>\n",
       "      <td>Neil Diamond</td>\n",
       "      <td>31.0</td>\n",
       "      <td>31</td>\n",
       "      <td>10</td>\n",
       "    </tr>\n",
       "    <tr>\n",
       "      <th>250048</th>\n",
       "      <td>1973-12-08</td>\n",
       "      <td>62</td>\n",
       "      <td>\"Having A Party\" Medley</td>\n",
       "      <td>The Ovations (Featuring Louis Williams)</td>\n",
       "      <td>56.0</td>\n",
       "      <td>56</td>\n",
       "      <td>9</td>\n",
       "    </tr>\n",
       "    <tr>\n",
       "      <th>249028</th>\n",
       "      <td>1974-02-16</td>\n",
       "      <td>42</td>\n",
       "      <td>\"Joy\" Pt. I</td>\n",
       "      <td>Isaac Hayes</td>\n",
       "      <td>30.0</td>\n",
       "      <td>30</td>\n",
       "      <td>9</td>\n",
       "    </tr>\n",
       "    <tr>\n",
       "      <th>232582</th>\n",
       "      <td>1977-04-16</td>\n",
       "      <td>83</td>\n",
       "      <td>\"Roots\" Medley</td>\n",
       "      <td>Quincy Jones</td>\n",
       "      <td>57.0</td>\n",
       "      <td>57</td>\n",
       "      <td>7</td>\n",
       "    </tr>\n",
       "  </tbody>\n",
       "</table>\n",
       "</div>"
      ],
      "text/plain": [
       "             date  rank                                   song  \\\n",
       "163090 1990-08-11    91                              \"B\" Girls   \n",
       "252937 1973-05-19    51  \"Cherry Cherry\" from Hot August Night   \n",
       "250048 1973-12-08    62                \"Having A Party\" Medley   \n",
       "249028 1974-02-16    42                            \"Joy\" Pt. I   \n",
       "232582 1977-04-16    83                         \"Roots\" Medley   \n",
       "\n",
       "                                         artist  last-week  peak-rank  \\\n",
       "163090                       Young And Restless       83.0         54   \n",
       "252937                             Neil Diamond       31.0         31   \n",
       "250048  The Ovations (Featuring Louis Williams)       56.0         56   \n",
       "249028                              Isaac Hayes       30.0         30   \n",
       "232582                             Quincy Jones       57.0         57   \n",
       "\n",
       "        weeks-on-board  \n",
       "163090              15  \n",
       "252937              10  \n",
       "250048               9  \n",
       "249028               9  \n",
       "232582               7  "
      ]
     },
     "execution_count": 10,
     "metadata": {},
     "output_type": "execute_result"
    }
   ],
   "source": [
    "bottom90_last_apperance_df = songLongevity(charts_df, debut_11_100)\n",
    "bottom90_last_apperance_df.head()"
   ]
  },
  {
   "cell_type": "code",
   "execution_count": 11,
   "id": "e26fb6d9",
   "metadata": {},
   "outputs": [],
   "source": [
    "#Create a Dataframe for all songs in the dataset and the information contained for that song's\n",
    "#debut week\n",
    "\n",
    "all100_first_apperance_df = pd.concat([debut_top_10, debut_11_100], axis=0)\n",
    "\n",
    "\n",
    "#Create a DataFrame for all songs in the dataset, regardless of debut, that contains the largest\n",
    "#'weeks-on-board' number\n",
    "\n",
    "all100_last_apperance_df = pd.concat([top10_last_apperance_df, bottom90_last_apperance_df], axis=0)\n"
   ]
  },
  {
   "cell_type": "code",
   "execution_count": 12,
   "id": "d3cd917b",
   "metadata": {},
   "outputs": [
    {
     "data": {
      "text/html": [
       "<div>\n",
       "<style scoped>\n",
       "    .dataframe tbody tr th:only-of-type {\n",
       "        vertical-align: middle;\n",
       "    }\n",
       "\n",
       "    .dataframe tbody tr th {\n",
       "        vertical-align: top;\n",
       "    }\n",
       "\n",
       "    .dataframe thead th {\n",
       "        text-align: right;\n",
       "    }\n",
       "</style>\n",
       "<table border=\"1\" class=\"dataframe\">\n",
       "  <thead>\n",
       "    <tr style=\"text-align: right;\">\n",
       "      <th></th>\n",
       "      <th>date</th>\n",
       "      <th>rank</th>\n",
       "      <th>song</th>\n",
       "      <th>artist</th>\n",
       "      <th>last-week</th>\n",
       "      <th>peak-rank</th>\n",
       "      <th>weeks-on-board</th>\n",
       "    </tr>\n",
       "  </thead>\n",
       "  <tbody>\n",
       "    <tr>\n",
       "      <th>400</th>\n",
       "      <td>2021-10-09</td>\n",
       "      <td>1</td>\n",
       "      <td>My Universe</td>\n",
       "      <td>Coldplay x BTS</td>\n",
       "      <td>NaN</td>\n",
       "      <td>1</td>\n",
       "      <td>1</td>\n",
       "    </tr>\n",
       "    <tr>\n",
       "      <th>509</th>\n",
       "      <td>2021-10-02</td>\n",
       "      <td>10</td>\n",
       "      <td>Thats What I Want</td>\n",
       "      <td>Lil Nas X</td>\n",
       "      <td>NaN</td>\n",
       "      <td>10</td>\n",
       "      <td>1</td>\n",
       "    </tr>\n",
       "    <tr>\n",
       "      <th>700</th>\n",
       "      <td>2021-09-18</td>\n",
       "      <td>1</td>\n",
       "      <td>Way 2 Sexy</td>\n",
       "      <td>Drake Featuring Future &amp; Young Thug</td>\n",
       "      <td>NaN</td>\n",
       "      <td>1</td>\n",
       "      <td>1</td>\n",
       "    </tr>\n",
       "    <tr>\n",
       "      <th>701</th>\n",
       "      <td>2021-09-18</td>\n",
       "      <td>2</td>\n",
       "      <td>Girls Want Girls</td>\n",
       "      <td>Drake Featuring Lil Baby</td>\n",
       "      <td>NaN</td>\n",
       "      <td>2</td>\n",
       "      <td>1</td>\n",
       "    </tr>\n",
       "    <tr>\n",
       "      <th>702</th>\n",
       "      <td>2021-09-18</td>\n",
       "      <td>3</td>\n",
       "      <td>Fair Trade</td>\n",
       "      <td>Drake Featuring Travis Scott</td>\n",
       "      <td>NaN</td>\n",
       "      <td>3</td>\n",
       "      <td>1</td>\n",
       "    </tr>\n",
       "  </tbody>\n",
       "</table>\n",
       "</div>"
      ],
      "text/plain": [
       "          date  rank               song                               artist  \\\n",
       "400 2021-10-09     1        My Universe                       Coldplay x BTS   \n",
       "509 2021-10-02    10  Thats What I Want                            Lil Nas X   \n",
       "700 2021-09-18     1         Way 2 Sexy  Drake Featuring Future & Young Thug   \n",
       "701 2021-09-18     2   Girls Want Girls             Drake Featuring Lil Baby   \n",
       "702 2021-09-18     3         Fair Trade         Drake Featuring Travis Scott   \n",
       "\n",
       "     last-week  peak-rank  weeks-on-board  \n",
       "400        NaN          1               1  \n",
       "509        NaN         10               1  \n",
       "700        NaN          1               1  \n",
       "701        NaN          2               1  \n",
       "702        NaN          3               1  "
      ]
     },
     "execution_count": 12,
     "metadata": {},
     "output_type": "execute_result"
    }
   ],
   "source": [
    "all100_first_apperance_df.head()"
   ]
  },
  {
   "cell_type": "code",
   "execution_count": 13,
   "id": "db5b9b16",
   "metadata": {},
   "outputs": [
    {
     "data": {
      "text/html": [
       "<div>\n",
       "<style scoped>\n",
       "    .dataframe tbody tr th:only-of-type {\n",
       "        vertical-align: middle;\n",
       "    }\n",
       "\n",
       "    .dataframe tbody tr th {\n",
       "        vertical-align: top;\n",
       "    }\n",
       "\n",
       "    .dataframe thead th {\n",
       "        text-align: right;\n",
       "    }\n",
       "</style>\n",
       "<table border=\"1\" class=\"dataframe\">\n",
       "  <thead>\n",
       "    <tr style=\"text-align: right;\">\n",
       "      <th></th>\n",
       "      <th>date</th>\n",
       "      <th>rank</th>\n",
       "      <th>song</th>\n",
       "      <th>artist</th>\n",
       "      <th>last-week</th>\n",
       "      <th>peak-rank</th>\n",
       "      <th>weeks-on-board</th>\n",
       "    </tr>\n",
       "  </thead>\n",
       "  <tbody>\n",
       "    <tr>\n",
       "      <th>19795</th>\n",
       "      <td>2018-01-27</td>\n",
       "      <td>96</td>\n",
       "      <td>...Ready For It?</td>\n",
       "      <td>Taylor Swift</td>\n",
       "      <td>80.0</td>\n",
       "      <td>4</td>\n",
       "      <td>20</td>\n",
       "    </tr>\n",
       "    <tr>\n",
       "      <th>7845</th>\n",
       "      <td>2020-05-09</td>\n",
       "      <td>46</td>\n",
       "      <td>10,000 Hours</td>\n",
       "      <td>Dan + Shay &amp; Justin Bieber</td>\n",
       "      <td>41.0</td>\n",
       "      <td>4</td>\n",
       "      <td>30</td>\n",
       "    </tr>\n",
       "    <tr>\n",
       "      <th>124148</th>\n",
       "      <td>1998-01-24</td>\n",
       "      <td>49</td>\n",
       "      <td>2 Become 1</td>\n",
       "      <td>Spice Girls</td>\n",
       "      <td>44.0</td>\n",
       "      <td>4</td>\n",
       "      <td>24</td>\n",
       "    </tr>\n",
       "    <tr>\n",
       "      <th>22249</th>\n",
       "      <td>2017-08-05</td>\n",
       "      <td>50</td>\n",
       "      <td>24K Magic</td>\n",
       "      <td>Bruno Mars</td>\n",
       "      <td>48.0</td>\n",
       "      <td>4</td>\n",
       "      <td>41</td>\n",
       "    </tr>\n",
       "    <tr>\n",
       "      <th>60971</th>\n",
       "      <td>2010-03-06</td>\n",
       "      <td>72</td>\n",
       "      <td>3</td>\n",
       "      <td>Britney Spears</td>\n",
       "      <td>63.0</td>\n",
       "      <td>1</td>\n",
       "      <td>20</td>\n",
       "    </tr>\n",
       "  </tbody>\n",
       "</table>\n",
       "</div>"
      ],
      "text/plain": [
       "             date  rank              song                      artist  \\\n",
       "19795  2018-01-27    96  ...Ready For It?                Taylor Swift   \n",
       "7845   2020-05-09    46      10,000 Hours  Dan + Shay & Justin Bieber   \n",
       "124148 1998-01-24    49        2 Become 1                 Spice Girls   \n",
       "22249  2017-08-05    50         24K Magic                  Bruno Mars   \n",
       "60971  2010-03-06    72                 3              Britney Spears   \n",
       "\n",
       "        last-week  peak-rank  weeks-on-board  \n",
       "19795        80.0          4              20  \n",
       "7845         41.0          4              30  \n",
       "124148       44.0          4              24  \n",
       "22249        48.0          4              41  \n",
       "60971        63.0          1              20  "
      ]
     },
     "execution_count": 13,
     "metadata": {},
     "output_type": "execute_result"
    }
   ],
   "source": [
    "all100_last_apperance_df.head()"
   ]
  },
  {
   "cell_type": "code",
   "execution_count": 14,
   "id": "e533d7bc",
   "metadata": {},
   "outputs": [],
   "source": [
    "import thinkplot\n",
    "import thinkstats2"
   ]
  },
  {
   "cell_type": "markdown",
   "id": "f1407964",
   "metadata": {},
   "source": [
    "Creating a Histogram for each of the 5 Variables"
   ]
  },
  {
   "cell_type": "code",
   "execution_count": 15,
   "id": "1065872c",
   "metadata": {},
   "outputs": [
    {
     "data": {
      "image/png": "[encoded data removed]",
      "text/plain": [
       "<Figure size 432x288 with 1 Axes>"
      ]
     },
     "metadata": {
      "needs_background": "light"
     },
     "output_type": "display_data"
    }
   ],
   "source": [
    "debut_rank = all100_first_apperance_df['rank'].value_counts().to_dict()\n",
    "\n",
    "dr_hist = thinkstats2.Hist(debut_rank)\n",
    "thinkplot.Hist(dr_hist)\n",
    "thinkplot.Config(xlabel='Debut Rank', ylabel='Count')"
   ]
  },
  {
   "cell_type": "code",
   "execution_count": 16,
   "id": "a3abcc61",
   "metadata": {},
   "outputs": [
    {
     "data": {
      "image/png": "[encoded data removed]",
      "text/plain": [
       "<Figure size 432x288 with 1 Axes>"
      ]
     },
     "metadata": {
      "needs_background": "light"
     },
     "output_type": "display_data"
    }
   ],
   "source": [
    "final_rank = all100_last_apperance_df['rank'].value_counts().to_dict()\n",
    "\n",
    "fr_hist = thinkstats2.Hist(final_rank)\n",
    "thinkplot.Hist(fr_hist)\n",
    "thinkplot.Config(xlabel='Final Rank', ylabel='Count')"
   ]
  },
  {
   "cell_type": "code",
   "execution_count": 17,
   "id": "bd96e5a0",
   "metadata": {},
   "outputs": [],
   "source": [
    "def findLongevityCount(debut_df):\n",
    "    \"\"\"\n",
    "    debut_df: DataFrame that has been filtered by debut ranking\n",
    "    \n",
    "    returns dictionary of key, value pairs ('weeks-on-board', count)\n",
    "    \"\"\"\n",
    "    longevity_count = debut_df['weeks-on-board'].value_counts().to_dict()\n",
    "    \n",
    "    return longevity_count"
   ]
  },
  {
   "cell_type": "code",
   "execution_count": 18,
   "id": "d815a91f",
   "metadata": {},
   "outputs": [
    {
     "data": {
      "image/png": "[encoded data removed]",
      "text/plain": [
       "<Figure size 432x288 with 1 Axes>"
      ]
     },
     "metadata": {
      "needs_background": "light"
     },
     "output_type": "display_data"
    }
   ],
   "source": [
    "top10_longevity = findLongevityCount(top10_last_apperance_df)\n",
    "\n",
    "t10_hist = thinkstats2.Hist(top10_longevity)\n",
    "thinkplot.Hist(t10_hist)\n",
    "thinkplot.Config(xlabel='Weeks on Board', ylabel='count')"
   ]
  },
  {
   "cell_type": "code",
   "execution_count": 19,
   "id": "b808aa7d",
   "metadata": {},
   "outputs": [
    {
     "data": {
      "image/png": "[encoded data removed]",
      "text/plain": [
       "<Figure size 432x288 with 1 Axes>"
      ]
     },
     "metadata": {
      "needs_background": "light"
     },
     "output_type": "display_data"
    }
   ],
   "source": [
    "bottom90_longevity = findLongevityCount(bottom90_last_apperance_df)\n",
    "\n",
    "b90_hist = thinkstats2.Hist(bottom90_longevity)\n",
    "thinkplot.Hist(b90_hist)\n",
    "thinkplot.Config(xlabel='Weeks on Board', ylabel='count')"
   ]
  },
  {
   "cell_type": "code",
   "execution_count": 20,
   "id": "b0ea90f2",
   "metadata": {},
   "outputs": [
    {
     "name": "stdout",
     "output_type": "stream",
     "text": [
      "{1: 2639, 20: 2317, 2: 1691, 8: 1587, 7: 1578, 6: 1563, 5: 1444, 3: 1420, 9: 1415, 4: 1396, 11: 1267, 10: 1266, 12: 1124, 13: 1085, 14: 1028, 15: 928, 16: 860, 17: 709, 18: 686, 19: 578, 21: 448, 22: 365, 23: 294, 25: 222, 24: 211, 26: 177, 27: 149, 28: 117, 29: 99, 30: 88, 31: 67, 32: 54, 33: 50, 36: 45, 39: 42, 34: 40, 35: 37, 40: 27, 38: 27, 52: 25, 37: 25, 42: 24, 41: 19, 45: 16, 43: 16, 44: 16, 48: 15, 46: 10, 47: 9, 50: 8, 53: 7, 54: 7, 49: 6, 51: 6, 56: 5, 57: 5, 58: 3, 62: 3, 55: 3, 65: 2, 61: 2, 60: 2, 59: 2, 68: 2, 87: 1, 76: 1, 90: 1, 69: 1, 64: 1, 79: 1}\n"
     ]
    }
   ],
   "source": [
    "print(bottom90_longevity)"
   ]
  },
  {
   "cell_type": "code",
   "execution_count": 21,
   "id": "61b9a25c",
   "metadata": {},
   "outputs": [
    {
     "name": "stdout",
     "output_type": "stream",
     "text": [
      "{20: 74, 8: 17, 14: 14, 3: 14, 1: 12, 24: 12, 5: 12, 6: 11, 23: 11, 7: 11, 21: 11, 2: 10, 10: 9, 22: 9, 16: 9, 32: 8, 25: 8, 15: 8, 27: 8, 18: 8, 12: 7, 29: 7, 4: 7, 31: 6, 19: 5, 42: 5, 30: 5, 28: 5, 33: 5, 17: 5, 52: 4, 9: 4, 26: 4, 41: 4, 11: 4, 37: 3, 36: 3, 49: 3, 13: 3, 43: 2, 39: 2, 46: 2, 34: 2, 45: 1, 38: 1, 47: 1, 59: 1, 50: 1, 57: 1, 51: 1, 44: 1, 56: 1, 40: 1, 35: 1, 61: 1, 53: 1}\n"
     ]
    }
   ],
   "source": [
    "print(top10_longevity)"
   ]
  },
  {
   "cell_type": "code",
   "execution_count": 22,
   "id": "23ba59ff",
   "metadata": {},
   "outputs": [
    {
     "data": {
      "image/png": "[encoded data removed]",
      "text/plain": [
       "<Figure size 432x288 with 1 Axes>"
      ]
     },
     "metadata": {
      "needs_background": "light"
     },
     "output_type": "display_data"
    }
   ],
   "source": [
    "#Historgram that charts peak-rank for all songs (no duplications for songs\n",
    "#that remain on the chart longer than one week)\n",
    "\n",
    "peak_rank = all100_last_apperance_df['peak-rank'].value_counts().to_dict()\n",
    "\n",
    "hist = thinkstats2.Hist(peak_rank)\n",
    "thinkplot.Hist(hist)\n",
    "thinkplot.Config(xlabel='Peak Rank', ylabel='Count')"
   ]
  },
  {
   "cell_type": "markdown",
   "id": "760d6909",
   "metadata": {},
   "source": [
    "Compare 2 scenarios using a PMF"
   ]
  },
  {
   "cell_type": "code",
   "execution_count": 23,
   "id": "1fd187b1",
   "metadata": {},
   "outputs": [],
   "source": [
    "top10_pmf = thinkstats2.Pmf(top10_longevity, label=\"top10\")\n",
    "bottom90_pmf = thinkstats2.Pmf(bottom90_longevity, label=\"bottom90\")"
   ]
  },
  {
   "cell_type": "code",
   "execution_count": 24,
   "id": "95cab396",
   "metadata": {
    "scrolled": true
   },
   "outputs": [
    {
     "data": {
      "image/png": "[encoded data removed]",
      "text/plain": [
       "<Figure size 864x432 with 2 Axes>"
      ]
     },
     "metadata": {
      "needs_background": "light"
     },
     "output_type": "display_data"
    }
   ],
   "source": [
    "width = 0.6\n",
    "axis = [1, 60, 0, 0.25]\n",
    "thinkplot.PrePlot(2, cols=2)\n",
    "thinkplot.Hist(top10_pmf, align=\"right\", width=width)\n",
    "thinkplot.Hist(bottom90_pmf, align=\"left\", width=width)\n",
    "thinkplot.Config(xlabel=\"Weeks on Board\", ylabel=\"PMF\", axis=axis)\n",
    "\n",
    "thinkplot.PrePlot(2)\n",
    "thinkplot.SubPlot(2)\n",
    "thinkplot.Pmfs([top10_pmf, bottom90_pmf])\n",
    "thinkplot.Config(xlabel=\"Weeks on Board\", axis=axis)"
   ]
  },
  {
   "cell_type": "markdown",
   "id": "5554f90f",
   "metadata": {},
   "source": [
    "Create CDF with one of the variables"
   ]
  },
  {
   "cell_type": "code",
   "execution_count": 26,
   "id": "bb9923e0",
   "metadata": {},
   "outputs": [],
   "source": [
    "top10_cdf = thinkstats2.Cdf(top10_longevity, label=\"top10\")\n",
    "bottom90_cdf = thinkstats2.Cdf(bottom90_longevity, label=\"bottom90\")"
   ]
  },
  {
   "cell_type": "code",
   "execution_count": 27,
   "id": "2b4d3d5e",
   "metadata": {},
   "outputs": [
    {
     "data": {
      "image/png": "[encoded data removed]",
      "text/plain": [
       "<Figure size 432x288 with 1 Axes>"
      ]
     },
     "metadata": {
      "needs_background": "light"
     },
     "output_type": "display_data"
    },
    {
     "data": {
      "text/plain": [
       "<Figure size 576x432 with 0 Axes>"
      ]
     },
     "metadata": {},
     "output_type": "display_data"
    }
   ],
   "source": [
    "thinkplot.Cdf(top10_cdf)\n",
    "thinkplot.Show(xlabel='Weeks on Board', ylabel=\"CDF\")"
   ]
  },
  {
   "cell_type": "code",
   "execution_count": 28,
   "id": "31f19a80",
   "metadata": {},
   "outputs": [
    {
     "data": {
      "image/png": "[encoded data removed]",
      "text/plain": [
       "<Figure size 432x288 with 1 Axes>"
      ]
     },
     "metadata": {
      "needs_background": "light"
     },
     "output_type": "display_data"
    },
    {
     "data": {
      "text/plain": [
       "<Figure size 576x432 with 0 Axes>"
      ]
     },
     "metadata": {},
     "output_type": "display_data"
    }
   ],
   "source": [
    "thinkplot.Cdf(bottom90_cdf)\n",
    "thinkplot.Show(xlabel='Weeks on Board', ylabel=\"CDF\")"
   ]
  },
  {
   "cell_type": "code",
   "execution_count": 29,
   "id": "e33f6ec7",
   "metadata": {},
   "outputs": [
    {
     "data": {
      "image/png": "[encoded data removed]",
      "text/plain": [
       "<Figure size 432x288 with 1 Axes>"
      ]
     },
     "metadata": {
      "needs_background": "light"
     },
     "output_type": "display_data"
    },
    {
     "data": {
      "text/plain": [
       "<Figure size 576x432 with 0 Axes>"
      ]
     },
     "metadata": {},
     "output_type": "display_data"
    }
   ],
   "source": [
    "thinkplot.PrePlot(2)\n",
    "thinkplot.Cdfs([top10_cdf, bottom90_cdf])\n",
    "thinkplot.Show(xlabel='Weeks on Board', ylabel='CDF')"
   ]
  },
  {
   "cell_type": "code",
   "execution_count": 30,
   "id": "95cc25e3",
   "metadata": {},
   "outputs": [
    {
     "data": {
      "image/png": "[encoded data removed]",
      "text/plain": [
       "<Figure size 432x288 with 1 Axes>"
      ]
     },
     "metadata": {
      "needs_background": "light"
     },
     "output_type": "display_data"
    }
   ],
   "source": [
    "thinkplot.PrePlot(3)\n",
    "for lam in [2.0, 1, 0.5]:\n",
    "    xs, ps = thinkstats2.RenderExpoCdf(lam, 0, 3.0, 50)\n",
    "    label = r\"$\\lambda=%g$\" % lam\n",
    "    thinkplot.Plot(xs, ps, label=label)\n",
    "\n",
    "thinkplot.Config(title=\"Exponential CDF\", xlabel=\"x\", ylabel=\"CDF\", loc=\"lower right\")"
   ]
  },
  {
   "cell_type": "code",
   "execution_count": 31,
   "id": "bd7e21b6",
   "metadata": {},
   "outputs": [
    {
     "data": {
      "image/png": "[encoded data removed]",
      "text/plain": [
       "<Figure size 432x288 with 1 Axes>"
      ]
     },
     "metadata": {
      "needs_background": "light"
     },
     "output_type": "display_data"
    }
   ],
   "source": [
    "thinkplot.Cdf(top10_cdf, complement=True)\n",
    "thinkplot.Config(\n",
    "    xlabel=\"Weeks Spent on Chart\",\n",
    "    ylable=\"CCDF\",\n",
    "    yscale=\"log\",\n",
    "    loc=\"upper right\",\n",
    ")"
   ]
  },
  {
   "cell_type": "code",
   "execution_count": 32,
   "id": "f8579723",
   "metadata": {},
   "outputs": [
    {
     "data": {
      "image/png": "[encoded data removed]",
      "text/plain": [
       "<Figure size 432x288 with 1 Axes>"
      ]
     },
     "metadata": {
      "needs_background": "light"
     },
     "output_type": "display_data"
    }
   ],
   "source": [
    "thinkplot.Cdf(bottom90_cdf, complement=True)\n",
    "thinkplot.Config(\n",
    "    xlabel=\"Weeks Spent on Chart\",\n",
    "    ylable=\"CCDF\",\n",
    "    yscale=\"log\",\n",
    "    loc=\"upper right\",\n",
    ")"
   ]
  },
  {
   "cell_type": "markdown",
   "id": "6969b89c",
   "metadata": {},
   "source": [
    "Include Mean Mode Spread and Tails descriptive characteristics\n",
    "\n",
    "- my initial placement and variable usage caused issues with my code, so I moved it below the visualization code "
   ]
  },
  {
   "cell_type": "code",
   "execution_count": 33,
   "id": "76dcf709",
   "metadata": {},
   "outputs": [],
   "source": [
    "final_rank_series = pd.Series(final_rank)\n",
    "debut_rank_series = pd.Series(debut_rank)\n",
    "peak_rank_series = pd.Series(peak_rank)\n",
    "top10_longevity_series = pd.Series(top10_longevity)\n",
    "bottom90_longevity_series = pd.Series(bottom90_longevity)"
   ]
  },
  {
   "cell_type": "code",
   "execution_count": 34,
   "id": "94b2629d",
   "metadata": {},
   "outputs": [],
   "source": [
    "def compute_summary_statistics(rank_counts):\n",
    "    \"\"\"\n",
    "    rank_counts (pd.Series): a series where index represents ranks and values\n",
    "    represent their counts\n",
    "\n",
    "    returns a dictionary containing summary statistics mean, median, mode, standard\n",
    "    deviation, and skew\n",
    "    \"\"\"\n",
    "    #expand ranks based on frequency\n",
    "    expanded_ranks = rank_counts.index.repeat(rank_counts.values)\n",
    "    \n",
    "    #convert to numpy array\n",
    "    expanded_ranks = np.array(expanded_ranks)\n",
    "    \n",
    "    #compute summary statistics\n",
    "    mean_value = np.mean(expanded_ranks)\n",
    "    median_value = np.median(expanded_ranks)\n",
    "    mode_value = mode(expanded_ranks).mode[0]\n",
    "    std_dev = np.std(expanded_ranks)\n",
    "    skew_value = skew(expanded_ranks)\n",
    "    \n",
    "    return {\n",
    "        'mean': mean_value,\n",
    "        'median': median_value,\n",
    "        'mode': mode_value,\n",
    "        'standard_deviation': std_dev,\n",
    "        'skew': skew_value\n",
    "    }"
   ]
  },
  {
   "cell_type": "code",
   "execution_count": 35,
   "id": "29f4ce15",
   "metadata": {},
   "outputs": [
    {
     "name": "stdout",
     "output_type": "stream",
     "text": [
      "{'mean': 76.57248908296943, 'median': 85.0, 'mode': 100, 'standard_deviation': 21.67407680292174, 'skew': -0.7220353198858488}\n"
     ]
    }
   ],
   "source": [
    "final_stats = compute_summary_statistics(final_rank_series)\n",
    "print(final_stats)"
   ]
  },
  {
   "cell_type": "code",
   "execution_count": 36,
   "id": "a90fed4f",
   "metadata": {},
   "outputs": [
    {
     "name": "stdout",
     "output_type": "stream",
     "text": [
      "{'mean': 80.23871445896779, 'median': 86.0, 'mode': 90, 'standard_deviation': 19.270528536854847, 'skew': -1.794657411337529}\n"
     ]
    }
   ],
   "source": [
    "debut_stats = compute_summary_statistics(debut_rank_series)\n",
    "print(debut_stats)"
   ]
  },
  {
   "cell_type": "code",
   "execution_count": 37,
   "id": "5cd3788c",
   "metadata": {},
   "outputs": [
    {
     "name": "stdout",
     "output_type": "stream",
     "text": [
      "{'mean': 46.60759153510245, 'median': 46.0, 'mode': 1, 'standard_deviation': 30.569371256145786, 'skew': 0.08005543492412191}\n"
     ]
    }
   ],
   "source": [
    "peak_stats = compute_summary_statistics(peak_rank_series)\n",
    "print(peak_stats)"
   ]
  },
  {
   "cell_type": "code",
   "execution_count": 38,
   "id": "a6a43414",
   "metadata": {},
   "outputs": [
    {
     "name": "stdout",
     "output_type": "stream",
     "text": [
      "{'mean': 19.419689119170986, 'median': 20.0, 'mode': 20, 'standard_deviation': 12.312638349102452, 'skew': 0.7620387110678363}\n"
     ]
    }
   ],
   "source": [
    "top10_stats = compute_summary_statistics(top10_longevity_series)\n",
    "print(top10_stats)"
   ]
  },
  {
   "cell_type": "code",
   "execution_count": 39,
   "id": "598ef2ba",
   "metadata": {},
   "outputs": [
    {
     "name": "stdout",
     "output_type": "stream",
     "text": [
      "{'mean': 11.036005989654234, 'median': 9.0, 'mode': 1, 'standard_deviation': 8.220389248884553, 'skew': 1.3255261863210792}\n"
     ]
    }
   ],
   "source": [
    "bottom90_stats = compute_summary_statistics(bottom90_longevity_series)\n",
    "print(bottom90_stats)"
   ]
  },
  {
   "cell_type": "code",
   "execution_count": 50,
   "id": "65256080",
   "metadata": {},
   "outputs": [],
   "source": [
    "#code from Thinkstats2\n",
    "def SampleRows(df, nrows, replace=False):\n",
    "    indices = np.random.choice(df.index, nrows, replace=replace)\n",
    "    sample = df.loc[indices]\n",
    "    return sample"
   ]
  },
  {
   "cell_type": "code",
   "execution_count": 63,
   "id": "2cac6b10",
   "metadata": {},
   "outputs": [
    {
     "data": {
      "text/html": [
       "<div>\n",
       "<style scoped>\n",
       "    .dataframe tbody tr th:only-of-type {\n",
       "        vertical-align: middle;\n",
       "    }\n",
       "\n",
       "    .dataframe tbody tr th {\n",
       "        vertical-align: top;\n",
       "    }\n",
       "\n",
       "    .dataframe thead th {\n",
       "        text-align: right;\n",
       "    }\n",
       "</style>\n",
       "<table border=\"1\" class=\"dataframe\">\n",
       "  <thead>\n",
       "    <tr style=\"text-align: right;\">\n",
       "      <th></th>\n",
       "      <th>date</th>\n",
       "      <th>rank</th>\n",
       "      <th>song</th>\n",
       "      <th>artist</th>\n",
       "      <th>last-week</th>\n",
       "      <th>peak-rank</th>\n",
       "      <th>weeks-on-board</th>\n",
       "      <th>debut-rank</th>\n",
       "    </tr>\n",
       "  </thead>\n",
       "  <tbody>\n",
       "    <tr>\n",
       "      <th>0</th>\n",
       "      <td>1990-08-11</td>\n",
       "      <td>91</td>\n",
       "      <td>\"B\" Girls</td>\n",
       "      <td>Young And Restless</td>\n",
       "      <td>83.0</td>\n",
       "      <td>54</td>\n",
       "      <td>15</td>\n",
       "      <td>84.0</td>\n",
       "    </tr>\n",
       "    <tr>\n",
       "      <th>1</th>\n",
       "      <td>1973-05-19</td>\n",
       "      <td>51</td>\n",
       "      <td>\"Cherry Cherry\" from Hot August Night</td>\n",
       "      <td>Neil Diamond</td>\n",
       "      <td>31.0</td>\n",
       "      <td>31</td>\n",
       "      <td>10</td>\n",
       "      <td>84.0</td>\n",
       "    </tr>\n",
       "    <tr>\n",
       "      <th>2</th>\n",
       "      <td>1973-12-08</td>\n",
       "      <td>62</td>\n",
       "      <td>\"Having A Party\" Medley</td>\n",
       "      <td>The Ovations (Featuring Louis Williams)</td>\n",
       "      <td>56.0</td>\n",
       "      <td>56</td>\n",
       "      <td>9</td>\n",
       "      <td>99.0</td>\n",
       "    </tr>\n",
       "    <tr>\n",
       "      <th>3</th>\n",
       "      <td>1974-02-16</td>\n",
       "      <td>42</td>\n",
       "      <td>\"Joy\" Pt. I</td>\n",
       "      <td>Isaac Hayes</td>\n",
       "      <td>30.0</td>\n",
       "      <td>30</td>\n",
       "      <td>9</td>\n",
       "      <td>72.0</td>\n",
       "    </tr>\n",
       "    <tr>\n",
       "      <th>4</th>\n",
       "      <td>1977-04-16</td>\n",
       "      <td>83</td>\n",
       "      <td>\"Roots\" Medley</td>\n",
       "      <td>Quincy Jones</td>\n",
       "      <td>57.0</td>\n",
       "      <td>57</td>\n",
       "      <td>7</td>\n",
       "      <td>87.0</td>\n",
       "    </tr>\n",
       "  </tbody>\n",
       "</table>\n",
       "</div>"
      ],
      "text/plain": [
       "        date  rank                                   song  \\\n",
       "0 1990-08-11    91                              \"B\" Girls   \n",
       "1 1973-05-19    51  \"Cherry Cherry\" from Hot August Night   \n",
       "2 1973-12-08    62                \"Having A Party\" Medley   \n",
       "3 1974-02-16    42                            \"Joy\" Pt. I   \n",
       "4 1977-04-16    83                         \"Roots\" Medley   \n",
       "\n",
       "                                    artist  last-week  peak-rank  \\\n",
       "0                       Young And Restless       83.0         54   \n",
       "1                             Neil Diamond       31.0         31   \n",
       "2  The Ovations (Featuring Louis Williams)       56.0         56   \n",
       "3                              Isaac Hayes       30.0         30   \n",
       "4                             Quincy Jones       57.0         57   \n",
       "\n",
       "   weeks-on-board  debut-rank  \n",
       "0              15        84.0  \n",
       "1              10        84.0  \n",
       "2               9        99.0  \n",
       "3               9        72.0  \n",
       "4               7        87.0  "
      ]
     },
     "execution_count": 63,
     "metadata": {},
     "output_type": "execute_result"
    }
   ],
   "source": [
    "#merge data from debut week and final week for each song\n",
    "\n",
    "debut_df = charts_df[charts_df['weeks-on-board'] == 1].copy()\n",
    "\n",
    "debut_df['debut-rank'] = debut_df['rank']\n",
    "\n",
    "max_weeks_df = charts_df.loc[charts_df.groupby(['song', 'artist'])['weeks-on-board'].idxmax()]\n",
    "\n",
    "result_df = pd.merge(max_weeks_df, debut_df[['song', 'artist', 'debut-rank']], \n",
    "                     on=['song', 'artist'], how='left')\n",
    "\n",
    "result_df.head()"
   ]
  },
  {
   "cell_type": "code",
   "execution_count": 66,
   "id": "cacdaa6c",
   "metadata": {},
   "outputs": [
    {
     "name": "stdout",
     "output_type": "stream",
     "text": [
      "           date  rank              song                    artist  last-week  \\\n",
      "8280 2021-11-06    26  Girls Want Girls  Drake Featuring Lil Baby       26.0   \n",
      "\n",
      "      peak-rank  weeks-on-board  debut-rank  \n",
      "8280          2               8         2.0  \n"
     ]
    }
   ],
   "source": [
    "#test new dataframe\n",
    "song_name = 'Girls Want Girls'\n",
    "\n",
    "# Filter the dataframe for case-insensitive match\n",
    "specific_song_df = result_df.loc[result_df['song'].str.lower() == song_name.lower()]\n",
    "\n",
    "# Display the result\n",
    "print(specific_song_df)"
   ]
  },
  {
   "cell_type": "markdown",
   "id": "09fd552b",
   "metadata": {},
   "source": [
    "Create 2 scatter plots"
   ]
  },
  {
   "cell_type": "code",
   "execution_count": 59,
   "id": "4146fb21",
   "metadata": {},
   "outputs": [],
   "source": [
    "sample = SampleRows(all100_last_apperance_df, 500)"
   ]
  },
  {
   "cell_type": "code",
   "execution_count": 67,
   "id": "188d1f76",
   "metadata": {},
   "outputs": [],
   "source": [
    "sample2 = SampleRows(result_df, 500)"
   ]
  },
  {
   "cell_type": "code",
   "execution_count": 73,
   "id": "80c75fad",
   "metadata": {},
   "outputs": [
    {
     "data": {
      "text/plain": [
       "Text(0, 0.5, 'Debut Rank (All Songs)')"
      ]
     },
     "execution_count": 73,
     "metadata": {},
     "output_type": "execute_result"
    },
    {
     "data": {
      "image/png": "[encoded data removed]",
      "text/plain": [
       "<Figure size 432x288 with 1 Axes>"
      ]
     },
     "metadata": {
      "needs_background": "light"
     },
     "output_type": "display_data"
    }
   ],
   "source": [
    "sns.scatterplot(x=\"rank\", y=\"debut-rank\", data=sample2)\n",
    "plt.xlabel(\"Final Rank (All Songs)\")\n",
    "plt.ylabel(\"Debut Rank (All Songs)\")"
   ]
  },
  {
   "cell_type": "code",
   "execution_count": 80,
   "id": "fe55ec70",
   "metadata": {},
   "outputs": [
    {
     "data": {
      "text/plain": [
       "Text(0, 0.5, 'Debut Rank (All Songs)')"
      ]
     },
     "execution_count": 80,
     "metadata": {},
     "output_type": "execute_result"
    },
    {
     "data": {
      "image/png": "[encoded data removed]",
      "text/plain": [
       "<Figure size 432x288 with 1 Axes>"
      ]
     },
     "metadata": {
      "needs_background": "light"
     },
     "output_type": "display_data"
    }
   ],
   "source": [
    "sns.scatterplot(x=\"weeks-on-board\", y=\"debut-rank\", data=sample2)\n",
    "plt.xlabel(\"Weeks on Board (All Songs)\")\n",
    "plt.ylabel(\"Debut Rank (All Songs)\")"
   ]
  },
  {
   "cell_type": "markdown",
   "id": "f6be7a43",
   "metadata": {},
   "source": [
    "Conduct a test on hypothesis"
   ]
  },
  {
   "cell_type": "code",
   "execution_count": 89,
   "id": "fc234547",
   "metadata": {},
   "outputs": [
    {
     "name": "stdout",
     "output_type": "stream",
     "text": [
      "Pearson's correlation between debut rank and weeks on board: -0.20180171975914268\n"
     ]
    }
   ],
   "source": [
    "pearson_corr = result_df['debut-rank'].corr(result_df['weeks-on-board'], method='pearson')\n",
    "\n",
    "print(f\"Pearson's correlation between debut rank and weeks on board: {pearson_corr}\")"
   ]
  },
  {
   "cell_type": "code",
   "execution_count": 90,
   "id": "91dc4c95",
   "metadata": {},
   "outputs": [
    {
     "name": "stdout",
     "output_type": "stream",
     "text": [
      "Pearson's correlation between debut rank and final rank: 0.17635267870717566\n"
     ]
    }
   ],
   "source": [
    "pearson_corr = result_df['debut-rank'].corr(result_df['rank'], method='pearson')\n",
    "\n",
    "print(f\"Pearson's correlation between debut rank and final rank: {pearson_corr}\")"
   ]
  },
  {
   "cell_type": "markdown",
   "id": "d989c8f0",
   "metadata": {},
   "source": [
    "Conduct regression analysis"
   ]
  },
  {
   "cell_type": "code",
   "execution_count": 91,
   "id": "dadefd89",
   "metadata": {},
   "outputs": [],
   "source": [
    "import statsmodels.formula.api as smf"
   ]
  },
  {
   "cell_type": "code",
   "execution_count": 93,
   "id": "f72acd84",
   "metadata": {},
   "outputs": [],
   "source": [
    "patsy_result_df = result_df.rename(columns={\n",
    "    'weeks-on-board': 'weeks_on_board',\n",
    "    'debut-rank': 'debutrank'\n",
    "})"
   ]
  },
  {
   "cell_type": "code",
   "execution_count": 94,
   "id": "db633836",
   "metadata": {},
   "outputs": [
    {
     "data": {
      "text/html": [
       "<table class=\"simpletable\">\n",
       "<caption>OLS Regression Results</caption>\n",
       "<tr>\n",
       "  <th>Dep. Variable:</th>     <td>weeks_on_board</td>  <th>  R-squared:         </th>  <td>   0.041</td>  \n",
       "</tr>\n",
       "<tr>\n",
       "  <th>Model:</th>                   <td>OLS</td>       <th>  Adj. R-squared:    </th>  <td>   0.041</td>  \n",
       "</tr>\n",
       "<tr>\n",
       "  <th>Method:</th>             <td>Least Squares</td>  <th>  F-statistic:       </th>  <td>   1260.</td>  \n",
       "</tr>\n",
       "<tr>\n",
       "  <th>Date:</th>             <td>Sat, 16 Nov 2024</td> <th>  Prob (F-statistic):</th>  <td>2.43e-270</td> \n",
       "</tr>\n",
       "<tr>\n",
       "  <th>Time:</th>                 <td>19:09:19</td>     <th>  Log-Likelihood:    </th> <td>-1.0433e+05</td>\n",
       "</tr>\n",
       "<tr>\n",
       "  <th>No. Observations:</th>      <td> 29684</td>      <th>  AIC:               </th>  <td>2.087e+05</td> \n",
       "</tr>\n",
       "<tr>\n",
       "  <th>Df Residuals:</th>          <td> 29682</td>      <th>  BIC:               </th>  <td>2.087e+05</td> \n",
       "</tr>\n",
       "<tr>\n",
       "  <th>Df Model:</th>              <td>     1</td>      <th>                     </th>      <td> </td>     \n",
       "</tr>\n",
       "<tr>\n",
       "  <th>Covariance Type:</th>      <td>nonrobust</td>    <th>                     </th>      <td> </td>     \n",
       "</tr>\n",
       "</table>\n",
       "<table class=\"simpletable\">\n",
       "<tr>\n",
       "      <td></td>         <th>coef</th>     <th>std err</th>      <th>t</th>      <th>P>|t|</th>  <th>[0.025</th>    <th>0.975]</th>  \n",
       "</tr>\n",
       "<tr>\n",
       "  <th>Intercept</th> <td>   18.1002</td> <td>    0.202</td> <td>   89.546</td> <td> 0.000</td> <td>   17.704</td> <td>   18.496</td>\n",
       "</tr>\n",
       "<tr>\n",
       "  <th>debutrank</th> <td>   -0.0870</td> <td>    0.002</td> <td>  -35.498</td> <td> 0.000</td> <td>   -0.092</td> <td>   -0.082</td>\n",
       "</tr>\n",
       "</table>\n",
       "<table class=\"simpletable\">\n",
       "<tr>\n",
       "  <th>Omnibus:</th>       <td>7522.779</td> <th>  Durbin-Watson:     </th> <td>   1.958</td> \n",
       "</tr>\n",
       "<tr>\n",
       "  <th>Prob(Omnibus):</th>  <td> 0.000</td>  <th>  Jarque-Bera (JB):  </th> <td>25546.724</td>\n",
       "</tr>\n",
       "<tr>\n",
       "  <th>Skew:</th>           <td> 1.267</td>  <th>  Prob(JB):          </th> <td>    0.00</td> \n",
       "</tr>\n",
       "<tr>\n",
       "  <th>Kurtosis:</th>       <td> 6.772</td>  <th>  Cond. No.          </th> <td>    353.</td> \n",
       "</tr>\n",
       "</table><br/><br/>Notes:<br/>[1] Standard Errors assume that the covariance matrix of the errors is correctly specified."
      ],
      "text/plain": [
       "<class 'statsmodels.iolib.summary.Summary'>\n",
       "\"\"\"\n",
       "                            OLS Regression Results                            \n",
       "==============================================================================\n",
       "Dep. Variable:         weeks_on_board   R-squared:                       0.041\n",
       "Model:                            OLS   Adj. R-squared:                  0.041\n",
       "Method:                 Least Squares   F-statistic:                     1260.\n",
       "Date:                Sat, 16 Nov 2024   Prob (F-statistic):          2.43e-270\n",
       "Time:                        19:09:19   Log-Likelihood:            -1.0433e+05\n",
       "No. Observations:               29684   AIC:                         2.087e+05\n",
       "Df Residuals:                   29682   BIC:                         2.087e+05\n",
       "Df Model:                           1                                         \n",
       "Covariance Type:            nonrobust                                         \n",
       "==============================================================================\n",
       "                 coef    std err          t      P>|t|      [0.025      0.975]\n",
       "------------------------------------------------------------------------------\n",
       "Intercept     18.1002      0.202     89.546      0.000      17.704      18.496\n",
       "debutrank     -0.0870      0.002    -35.498      0.000      -0.092      -0.082\n",
       "==============================================================================\n",
       "Omnibus:                     7522.779   Durbin-Watson:                   1.958\n",
       "Prob(Omnibus):                  0.000   Jarque-Bera (JB):            25546.724\n",
       "Skew:                           1.267   Prob(JB):                         0.00\n",
       "Kurtosis:                       6.772   Cond. No.                         353.\n",
       "==============================================================================\n",
       "\n",
       "Notes:\n",
       "[1] Standard Errors assume that the covariance matrix of the errors is correctly specified.\n",
       "\"\"\""
      ]
     },
     "execution_count": 94,
     "metadata": {},
     "output_type": "execute_result"
    }
   ],
   "source": [
    "formula = 'weeks_on_board ~ debutrank'\n",
    "model = smf.ols(formula, data=patsy_result_df)\n",
    "results = model.fit()\n",
    "results.summary()"
   ]
  },
  {
   "cell_type": "code",
   "execution_count": 95,
   "id": "77234d7a",
   "metadata": {},
   "outputs": [
    {
     "data": {
      "text/plain": [
       "(18.100243739565276, -0.08695193276247429)"
      ]
     },
     "execution_count": 95,
     "metadata": {},
     "output_type": "execute_result"
    }
   ],
   "source": [
    "inter = results.params['Intercept']\n",
    "slope = results.params['debutrank']\n",
    "inter, slope"
   ]
  },
  {
   "cell_type": "code",
   "execution_count": 96,
   "id": "ae36526d",
   "metadata": {},
   "outputs": [
    {
     "data": {
      "text/plain": [
       "2.4295199955496187e-270"
      ]
     },
     "execution_count": 96,
     "metadata": {},
     "output_type": "execute_result"
    }
   ],
   "source": [
    "slope_pvalue = results.pvalues['debutrank']\n",
    "slope_pvalue"
   ]
  },
  {
   "cell_type": "code",
   "execution_count": 97,
   "id": "f4ee7dd4",
   "metadata": {},
   "outputs": [
    {
     "data": {
      "text/plain": [
       "0.04072393409774688"
      ]
     },
     "execution_count": 97,
     "metadata": {},
     "output_type": "execute_result"
    }
   ],
   "source": [
    "results.rsquared"
   ]
  },
  {
   "cell_type": "code",
   "execution_count": 100,
   "id": "8544d73f",
   "metadata": {},
   "outputs": [],
   "source": [
    "#Create \"debut_top_10\" DataFrame that only contains data for songs that fit these criteria:\n",
    "#-'weeks-on-board' is '1'\n",
    "#-'rank' is <= 10\n",
    "\n",
    "top10debut = patsy_result_df[(patsy_result_df['weeks_on_board'] == 1) & (patsy_result_df['debutrank'] <= 10)]\n",
    "\n",
    "\n",
    "#Create \"debut_11_100\" DataFrame that only contains data for songs that fit these criteria:\n",
    "#-'weeks-on-board' is '1'\n",
    "#-'rank' is > 10\n",
    "\n",
    "bottom90debut = patsy_result_df[(patsy_result_df['weeks_on_board'] == 1) & (patsy_result_df['debutrank'] > 10)]\n"
   ]
  },
  {
   "cell_type": "code",
   "execution_count": 104,
   "id": "959b42eb",
   "metadata": {},
   "outputs": [
    {
     "data": {
      "text/plain": [
       "0.0"
      ]
     },
     "execution_count": 104,
     "metadata": {},
     "output_type": "execute_result"
    }
   ],
   "source": [
    "diff_weeks = top10debut.weeks_on_board.mean() - bottom90debut.weeks_on_board.mean()\n",
    "diff_weeks"
   ]
  },
  {
   "cell_type": "code",
   "execution_count": 106,
   "id": "86f03edd",
   "metadata": {},
   "outputs": [
    {
     "data": {
      "text/plain": [
       "-71.60894278135657"
      ]
     },
     "execution_count": 106,
     "metadata": {},
     "output_type": "execute_result"
    }
   ],
   "source": [
    "diff_debut = top10debut.debutrank.mean() - bottom90debut.debutrank.mean()\n",
    "diff_debut"
   ]
  },
  {
   "cell_type": "code",
   "execution_count": 107,
   "id": "3d15be02",
   "metadata": {},
   "outputs": [
    {
     "data": {
      "text/plain": [
       "6.226535977916385"
      ]
     },
     "execution_count": 107,
     "metadata": {},
     "output_type": "execute_result"
    }
   ],
   "source": [
    "slope * diff_debut"
   ]
  },
  {
   "cell_type": "code",
   "execution_count": 110,
   "id": "68fa9188",
   "metadata": {},
   "outputs": [
    {
     "data": {
      "text/html": [
       "<table class=\"simpletable\">\n",
       "<caption>OLS Regression Results</caption>\n",
       "<tr>\n",
       "  <th>Dep. Variable:</th>     <td>weeks_on_board</td>  <th>  R-squared:         </th>  <td>   0.004</td>  \n",
       "</tr>\n",
       "<tr>\n",
       "  <th>Model:</th>                   <td>OLS</td>       <th>  Adj. R-squared:    </th>  <td>   0.004</td>  \n",
       "</tr>\n",
       "<tr>\n",
       "  <th>Method:</th>             <td>Least Squares</td>  <th>  F-statistic:       </th>  <td>   113.7</td>  \n",
       "</tr>\n",
       "<tr>\n",
       "  <th>Date:</th>             <td>Sat, 16 Nov 2024</td> <th>  Prob (F-statistic):</th>  <td>1.73e-26</td>  \n",
       "</tr>\n",
       "<tr>\n",
       "  <th>Time:</th>                 <td>19:26:28</td>     <th>  Log-Likelihood:    </th> <td>-1.0495e+05</td>\n",
       "</tr>\n",
       "<tr>\n",
       "  <th>No. Observations:</th>      <td> 29693</td>      <th>  AIC:               </th>  <td>2.099e+05</td> \n",
       "</tr>\n",
       "<tr>\n",
       "  <th>Df Residuals:</th>          <td> 29691</td>      <th>  BIC:               </th>  <td>2.099e+05</td> \n",
       "</tr>\n",
       "<tr>\n",
       "  <th>Df Model:</th>              <td>     1</td>      <th>                     </th>      <td> </td>     \n",
       "</tr>\n",
       "<tr>\n",
       "  <th>Covariance Type:</th>      <td>nonrobust</td>    <th>                     </th>      <td> </td>     \n",
       "</tr>\n",
       "</table>\n",
       "<table class=\"simpletable\">\n",
       "<tr>\n",
       "         <td></td>           <th>coef</th>     <th>std err</th>      <th>t</th>      <th>P>|t|</th>  <th>[0.025</th>    <th>0.975]</th>  \n",
       "</tr>\n",
       "<tr>\n",
       "  <th>Intercept</th>      <td>   11.1041</td> <td>    0.048</td> <td>  230.468</td> <td> 0.000</td> <td>   11.010</td> <td>   11.199</td>\n",
       "</tr>\n",
       "<tr>\n",
       "  <th>istop1[T.True]</th> <td>   11.5230</td> <td>    1.081</td> <td>   10.661</td> <td> 0.000</td> <td>    9.404</td> <td>   13.642</td>\n",
       "</tr>\n",
       "</table>\n",
       "<table class=\"simpletable\">\n",
       "<tr>\n",
       "  <th>Omnibus:</th>       <td>7813.074</td> <th>  Durbin-Watson:     </th> <td>   1.953</td> \n",
       "</tr>\n",
       "<tr>\n",
       "  <th>Prob(Omnibus):</th>  <td> 0.000</td>  <th>  Jarque-Bera (JB):  </th> <td>25576.761</td>\n",
       "</tr>\n",
       "<tr>\n",
       "  <th>Skew:</th>           <td> 1.331</td>  <th>  Prob(JB):          </th> <td>    0.00</td> \n",
       "</tr>\n",
       "<tr>\n",
       "  <th>Kurtosis:</th>       <td> 6.686</td>  <th>  Cond. No.          </th> <td>    22.5</td> \n",
       "</tr>\n",
       "</table><br/><br/>Notes:<br/>[1] Standard Errors assume that the covariance matrix of the errors is correctly specified."
      ],
      "text/plain": [
       "<class 'statsmodels.iolib.summary.Summary'>\n",
       "\"\"\"\n",
       "                            OLS Regression Results                            \n",
       "==============================================================================\n",
       "Dep. Variable:         weeks_on_board   R-squared:                       0.004\n",
       "Model:                            OLS   Adj. R-squared:                  0.004\n",
       "Method:                 Least Squares   F-statistic:                     113.7\n",
       "Date:                Sat, 16 Nov 2024   Prob (F-statistic):           1.73e-26\n",
       "Time:                        19:26:28   Log-Likelihood:            -1.0495e+05\n",
       "No. Observations:               29693   AIC:                         2.099e+05\n",
       "Df Residuals:                   29691   BIC:                         2.099e+05\n",
       "Df Model:                           1                                         \n",
       "Covariance Type:            nonrobust                                         \n",
       "==================================================================================\n",
       "                     coef    std err          t      P>|t|      [0.025      0.975]\n",
       "----------------------------------------------------------------------------------\n",
       "Intercept         11.1041      0.048    230.468      0.000      11.010      11.199\n",
       "istop1[T.True]    11.5230      1.081     10.661      0.000       9.404      13.642\n",
       "==============================================================================\n",
       "Omnibus:                     7813.074   Durbin-Watson:                   1.953\n",
       "Prob(Omnibus):                  0.000   Jarque-Bera (JB):            25576.761\n",
       "Skew:                           1.331   Prob(JB):                         0.00\n",
       "Kurtosis:                       6.686   Cond. No.                         22.5\n",
       "==============================================================================\n",
       "\n",
       "Notes:\n",
       "[1] Standard Errors assume that the covariance matrix of the errors is correctly specified.\n",
       "\"\"\""
      ]
     },
     "execution_count": 110,
     "metadata": {},
     "output_type": "execute_result"
    }
   ],
   "source": [
    "patsy_result_df['istop1'] = patsy_result_df.debutrank == 1\n",
    "formula = 'weeks_on_board ~ istop1'\n",
    "results = smf.ols(formula, data=patsy_result_df).fit()\n",
    "results.summary()"
   ]
  },
  {
   "cell_type": "code",
   "execution_count": 111,
   "id": "76020f7d",
   "metadata": {},
   "outputs": [
    {
     "data": {
      "text/html": [
       "<table class=\"simpletable\">\n",
       "<caption>OLS Regression Results</caption>\n",
       "<tr>\n",
       "  <th>Dep. Variable:</th>     <td>weeks_on_board</td>  <th>  R-squared:         </th>  <td>   0.041</td>  \n",
       "</tr>\n",
       "<tr>\n",
       "  <th>Model:</th>                   <td>OLS</td>       <th>  Adj. R-squared:    </th>  <td>   0.041</td>  \n",
       "</tr>\n",
       "<tr>\n",
       "  <th>Method:</th>             <td>Least Squares</td>  <th>  F-statistic:       </th>  <td>   640.3</td>  \n",
       "</tr>\n",
       "<tr>\n",
       "  <th>Date:</th>             <td>Sat, 16 Nov 2024</td> <th>  Prob (F-statistic):</th>  <td>5.72e-273</td> \n",
       "</tr>\n",
       "<tr>\n",
       "  <th>Time:</th>                 <td>19:27:38</td>     <th>  Log-Likelihood:    </th> <td>-1.0432e+05</td>\n",
       "</tr>\n",
       "<tr>\n",
       "  <th>No. Observations:</th>      <td> 29684</td>      <th>  AIC:               </th>  <td>2.087e+05</td> \n",
       "</tr>\n",
       "<tr>\n",
       "  <th>Df Residuals:</th>          <td> 29681</td>      <th>  BIC:               </th>  <td>2.087e+05</td> \n",
       "</tr>\n",
       "<tr>\n",
       "  <th>Df Model:</th>              <td>     2</td>      <th>                     </th>      <td> </td>     \n",
       "</tr>\n",
       "<tr>\n",
       "  <th>Covariance Type:</th>      <td>nonrobust</td>    <th>                     </th>      <td> </td>     \n",
       "</tr>\n",
       "</table>\n",
       "<table class=\"simpletable\">\n",
       "<tr>\n",
       "         <td></td>           <th>coef</th>     <th>std err</th>      <th>t</th>      <th>P>|t|</th>  <th>[0.025</th>    <th>0.975]</th>  \n",
       "</tr>\n",
       "<tr>\n",
       "  <th>Intercept</th>      <td>   17.9279</td> <td>    0.206</td> <td>   87.128</td> <td> 0.000</td> <td>   17.525</td> <td>   18.331</td>\n",
       "</tr>\n",
       "<tr>\n",
       "  <th>istop1[T.True]</th> <td>    4.7841</td> <td>    1.078</td> <td>    4.439</td> <td> 0.000</td> <td>    2.672</td> <td>    6.897</td>\n",
       "</tr>\n",
       "<tr>\n",
       "  <th>debutrank</th>      <td>   -0.0849</td> <td>    0.002</td> <td>  -34.091</td> <td> 0.000</td> <td>   -0.090</td> <td>   -0.080</td>\n",
       "</tr>\n",
       "</table>\n",
       "<table class=\"simpletable\">\n",
       "<tr>\n",
       "  <th>Omnibus:</th>       <td>7525.829</td> <th>  Durbin-Watson:     </th> <td>   1.957</td> \n",
       "</tr>\n",
       "<tr>\n",
       "  <th>Prob(Omnibus):</th>  <td> 0.000</td>  <th>  Jarque-Bera (JB):  </th> <td>25525.984</td>\n",
       "</tr>\n",
       "<tr>\n",
       "  <th>Skew:</th>           <td> 1.268</td>  <th>  Prob(JB):          </th> <td>    0.00</td> \n",
       "</tr>\n",
       "<tr>\n",
       "  <th>Kurtosis:</th>       <td> 6.769</td>  <th>  Cond. No.          </th> <td>1.89e+03</td> \n",
       "</tr>\n",
       "</table><br/><br/>Notes:<br/>[1] Standard Errors assume that the covariance matrix of the errors is correctly specified.<br/>[2] The condition number is large, 1.89e+03. This might indicate that there are<br/>strong multicollinearity or other numerical problems."
      ],
      "text/plain": [
       "<class 'statsmodels.iolib.summary.Summary'>\n",
       "\"\"\"\n",
       "                            OLS Regression Results                            \n",
       "==============================================================================\n",
       "Dep. Variable:         weeks_on_board   R-squared:                       0.041\n",
       "Model:                            OLS   Adj. R-squared:                  0.041\n",
       "Method:                 Least Squares   F-statistic:                     640.3\n",
       "Date:                Sat, 16 Nov 2024   Prob (F-statistic):          5.72e-273\n",
       "Time:                        19:27:38   Log-Likelihood:            -1.0432e+05\n",
       "No. Observations:               29684   AIC:                         2.087e+05\n",
       "Df Residuals:                   29681   BIC:                         2.087e+05\n",
       "Df Model:                           2                                         \n",
       "Covariance Type:            nonrobust                                         \n",
       "==================================================================================\n",
       "                     coef    std err          t      P>|t|      [0.025      0.975]\n",
       "----------------------------------------------------------------------------------\n",
       "Intercept         17.9279      0.206     87.128      0.000      17.525      18.331\n",
       "istop1[T.True]     4.7841      1.078      4.439      0.000       2.672       6.897\n",
       "debutrank         -0.0849      0.002    -34.091      0.000      -0.090      -0.080\n",
       "==============================================================================\n",
       "Omnibus:                     7525.829   Durbin-Watson:                   1.957\n",
       "Prob(Omnibus):                  0.000   Jarque-Bera (JB):            25525.984\n",
       "Skew:                           1.268   Prob(JB):                         0.00\n",
       "Kurtosis:                       6.769   Cond. No.                     1.89e+03\n",
       "==============================================================================\n",
       "\n",
       "Notes:\n",
       "[1] Standard Errors assume that the covariance matrix of the errors is correctly specified.\n",
       "[2] The condition number is large, 1.89e+03. This might indicate that there are\n",
       "strong multicollinearity or other numerical problems.\n",
       "\"\"\""
      ]
     },
     "execution_count": 111,
     "metadata": {},
     "output_type": "execute_result"
    }
   ],
   "source": [
    "formula = 'weeks_on_board ~ istop1 + debutrank'\n",
    "results = smf.ols(formula, data=patsy_result_df).fit()\n",
    "results.summary()"
   ]
  },
  {
   "cell_type": "code",
   "execution_count": 112,
   "id": "d449b96e",
   "metadata": {},
   "outputs": [
    {
     "data": {
      "text/html": [
       "<table class=\"simpletable\">\n",
       "<caption>OLS Regression Results</caption>\n",
       "<tr>\n",
       "  <th>Dep. Variable:</th>     <td>weeks_on_board</td>  <th>  R-squared:         </th>  <td>   0.044</td>  \n",
       "</tr>\n",
       "<tr>\n",
       "  <th>Model:</th>                   <td>OLS</td>       <th>  Adj. R-squared:    </th>  <td>   0.044</td>  \n",
       "</tr>\n",
       "<tr>\n",
       "  <th>Method:</th>             <td>Least Squares</td>  <th>  F-statistic:       </th>  <td>   456.0</td>  \n",
       "</tr>\n",
       "<tr>\n",
       "  <th>Date:</th>             <td>Sat, 16 Nov 2024</td> <th>  Prob (F-statistic):</th>  <td>1.16e-289</td> \n",
       "</tr>\n",
       "<tr>\n",
       "  <th>Time:</th>                 <td>19:30:06</td>     <th>  Log-Likelihood:    </th> <td>-1.0428e+05</td>\n",
       "</tr>\n",
       "<tr>\n",
       "  <th>No. Observations:</th>      <td> 29684</td>      <th>  AIC:               </th>  <td>2.086e+05</td> \n",
       "</tr>\n",
       "<tr>\n",
       "  <th>Df Residuals:</th>          <td> 29680</td>      <th>  BIC:               </th>  <td>2.086e+05</td> \n",
       "</tr>\n",
       "<tr>\n",
       "  <th>Df Model:</th>              <td>     3</td>      <th>                     </th>      <td> </td>     \n",
       "</tr>\n",
       "<tr>\n",
       "  <th>Covariance Type:</th>      <td>nonrobust</td>    <th>                     </th>      <td> </td>     \n",
       "</tr>\n",
       "</table>\n",
       "<table class=\"simpletable\">\n",
       "<tr>\n",
       "         <td></td>           <th>coef</th>     <th>std err</th>      <th>t</th>      <th>P>|t|</th>  <th>[0.025</th>    <th>0.975]</th>  \n",
       "</tr>\n",
       "<tr>\n",
       "  <th>Intercept</th>      <td>   15.1619</td> <td>    0.365</td> <td>   41.486</td> <td> 0.000</td> <td>   14.446</td> <td>   15.878</td>\n",
       "</tr>\n",
       "<tr>\n",
       "  <th>istop1[T.True]</th> <td>    7.4477</td> <td>    1.115</td> <td>    6.680</td> <td> 0.000</td> <td>    5.262</td> <td>    9.633</td>\n",
       "</tr>\n",
       "<tr>\n",
       "  <th>debutrank</th>      <td>    0.0183</td> <td>    0.012</td> <td>    1.586</td> <td> 0.113</td> <td>   -0.004</td> <td>    0.041</td>\n",
       "</tr>\n",
       "<tr>\n",
       "  <th>debutrank2</th>     <td>   -0.0008</td> <td> 8.86e-05</td> <td>   -9.152</td> <td> 0.000</td> <td>   -0.001</td> <td>   -0.001</td>\n",
       "</tr>\n",
       "</table>\n",
       "<table class=\"simpletable\">\n",
       "<tr>\n",
       "  <th>Omnibus:</th>       <td>7718.804</td> <th>  Durbin-Watson:     </th> <td>   1.958</td> \n",
       "</tr>\n",
       "<tr>\n",
       "  <th>Prob(Omnibus):</th>  <td> 0.000</td>  <th>  Jarque-Bera (JB):  </th> <td>26901.823</td>\n",
       "</tr>\n",
       "<tr>\n",
       "  <th>Skew:</th>           <td> 1.292</td>  <th>  Prob(JB):          </th> <td>    0.00</td> \n",
       "</tr>\n",
       "<tr>\n",
       "  <th>Kurtosis:</th>       <td> 6.883</td>  <th>  Cond. No.          </th> <td>1.73e+05</td> \n",
       "</tr>\n",
       "</table><br/><br/>Notes:<br/>[1] Standard Errors assume that the covariance matrix of the errors is correctly specified.<br/>[2] The condition number is large, 1.73e+05. This might indicate that there are<br/>strong multicollinearity or other numerical problems."
      ],
      "text/plain": [
       "<class 'statsmodels.iolib.summary.Summary'>\n",
       "\"\"\"\n",
       "                            OLS Regression Results                            \n",
       "==============================================================================\n",
       "Dep. Variable:         weeks_on_board   R-squared:                       0.044\n",
       "Model:                            OLS   Adj. R-squared:                  0.044\n",
       "Method:                 Least Squares   F-statistic:                     456.0\n",
       "Date:                Sat, 16 Nov 2024   Prob (F-statistic):          1.16e-289\n",
       "Time:                        19:30:06   Log-Likelihood:            -1.0428e+05\n",
       "No. Observations:               29684   AIC:                         2.086e+05\n",
       "Df Residuals:                   29680   BIC:                         2.086e+05\n",
       "Df Model:                           3                                         \n",
       "Covariance Type:            nonrobust                                         \n",
       "==================================================================================\n",
       "                     coef    std err          t      P>|t|      [0.025      0.975]\n",
       "----------------------------------------------------------------------------------\n",
       "Intercept         15.1619      0.365     41.486      0.000      14.446      15.878\n",
       "istop1[T.True]     7.4477      1.115      6.680      0.000       5.262       9.633\n",
       "debutrank          0.0183      0.012      1.586      0.113      -0.004       0.041\n",
       "debutrank2        -0.0008   8.86e-05     -9.152      0.000      -0.001      -0.001\n",
       "==============================================================================\n",
       "Omnibus:                     7718.804   Durbin-Watson:                   1.958\n",
       "Prob(Omnibus):                  0.000   Jarque-Bera (JB):            26901.823\n",
       "Skew:                           1.292   Prob(JB):                         0.00\n",
       "Kurtosis:                       6.883   Cond. No.                     1.73e+05\n",
       "==============================================================================\n",
       "\n",
       "Notes:\n",
       "[1] Standard Errors assume that the covariance matrix of the errors is correctly specified.\n",
       "[2] The condition number is large, 1.73e+05. This might indicate that there are\n",
       "strong multicollinearity or other numerical problems.\n",
       "\"\"\""
      ]
     },
     "execution_count": 112,
     "metadata": {},
     "output_type": "execute_result"
    }
   ],
   "source": [
    "patsy_result_df['debutrank2'] = patsy_result_df.debutrank**2\n",
    "formula = 'weeks_on_board ~ istop1 + debutrank + debutrank2'\n",
    "results = smf.ols(formula, data=patsy_result_df).fit()\n",
    "results.summary()"
   ]
  },
  {
   "cell_type": "code",
   "execution_count": null,
   "id": "1addb3e1",
   "metadata": {},
   "outputs": [],
   "source": []
  }
 ],
 "metadata": {
  "kernelspec": {
   "display_name": "Python 3 (ipykernel)",
   "language": "python",
   "name": "python3"
  },
  "language_info": {
   "codemirror_mode": {
    "name": "ipython",
    "version": 3
   },
   "file_extension": ".py",
   "mimetype": "text/x-python",
   "name": "python",
   "nbconvert_exporter": "python",
   "pygments_lexer": "ipython3",
   "version": "3.9.7"
  }
 },
 "nbformat": 4,
 "nbformat_minor": 5
}
