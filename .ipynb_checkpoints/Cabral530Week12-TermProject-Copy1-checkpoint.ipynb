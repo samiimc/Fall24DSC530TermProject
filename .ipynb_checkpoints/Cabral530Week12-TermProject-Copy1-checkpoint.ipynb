{
 "cells": [
  {
   "cell_type": "markdown",
   "id": "fa84117f",
   "metadata": {},
   "source": [
    "# Billboard Hot 100 Chart Data Analysis and Exploration\n",
    "\n",
    "\n",
    "Samantha Cabral\n",
    "DSC 530 - Data Exploration and Analysis\n",
    "Prof. Metzger\n",
    "Due: November 17, 2024\n",
    "Final Term Project\n",
    "\n",
    "\n",
    "Data Set:\n",
    "\n",
    "Billboard Hot 100 (Top 100) Songs each week from August 4, 1958 through November 6, 2021.\n",
    "\n",
    "Statistical Question:\n",
    "\n",
    "Do songs that debut in the top 10 stay on the chart longer than songs that debut between ranks 11 and 100?"
   ]
  },
  {
   "cell_type": "code",
   "execution_count": 34,
   "id": "886003aa",
   "metadata": {},
   "outputs": [],
   "source": [
    "import pandas as pd\n",
    "import numpy as np\n",
    "import matplotlib.pyplot as plt\n",
    "import seaborn as sns\n",
    "\n",
    "from collections import Counter"
   ]
  },
  {
   "cell_type": "code",
   "execution_count": 7,
   "id": "7b170454",
   "metadata": {},
   "outputs": [
    {
     "name": "stdout",
     "output_type": "stream",
     "text": [
      "<class 'pandas.core.frame.DataFrame'>\n",
      "RangeIndex: 330087 entries, 0 to 330086\n",
      "Data columns (total 7 columns):\n",
      " #   Column          Non-Null Count   Dtype  \n",
      "---  ------          --------------   -----  \n",
      " 0   date            330087 non-null  object \n",
      " 1   rank            330087 non-null  int64  \n",
      " 2   song            330087 non-null  object \n",
      " 3   artist          330087 non-null  object \n",
      " 4   last-week       297775 non-null  float64\n",
      " 5   peak-rank       330087 non-null  int64  \n",
      " 6   weeks-on-board  330087 non-null  int64  \n",
      "dtypes: float64(1), int64(3), object(3)\n",
      "memory usage: 17.6+ MB\n",
      "None\n",
      "                rank      last-week      peak-rank  weeks-on-board\n",
      "count  330087.000000  297775.000000  330087.000000   330087.000000\n",
      "mean       50.500929      47.591631      40.970629        9.161785\n",
      "std        28.866094      28.054360      29.347481        7.618264\n",
      "min         1.000000       1.000000       1.000000        1.000000\n",
      "25%        26.000000      23.000000      13.000000        4.000000\n",
      "50%        51.000000      47.000000      38.000000        7.000000\n",
      "75%        76.000000      72.000000      65.000000       13.000000\n",
      "max       100.000000     100.000000     100.000000       90.000000\n"
     ]
    },
    {
     "data": {
      "text/html": [
       "<div>\n",
       "<style scoped>\n",
       "    .dataframe tbody tr th:only-of-type {\n",
       "        vertical-align: middle;\n",
       "    }\n",
       "\n",
       "    .dataframe tbody tr th {\n",
       "        vertical-align: top;\n",
       "    }\n",
       "\n",
       "    .dataframe thead th {\n",
       "        text-align: right;\n",
       "    }\n",
       "</style>\n",
       "<table border=\"1\" class=\"dataframe\">\n",
       "  <thead>\n",
       "    <tr style=\"text-align: right;\">\n",
       "      <th></th>\n",
       "      <th>date</th>\n",
       "      <th>rank</th>\n",
       "      <th>song</th>\n",
       "      <th>artist</th>\n",
       "      <th>last-week</th>\n",
       "      <th>peak-rank</th>\n",
       "      <th>weeks-on-board</th>\n",
       "    </tr>\n",
       "  </thead>\n",
       "  <tbody>\n",
       "    <tr>\n",
       "      <th>0</th>\n",
       "      <td>2021-11-06</td>\n",
       "      <td>1</td>\n",
       "      <td>Easy On Me</td>\n",
       "      <td>Adele</td>\n",
       "      <td>1.0</td>\n",
       "      <td>1</td>\n",
       "      <td>3</td>\n",
       "    </tr>\n",
       "    <tr>\n",
       "      <th>1</th>\n",
       "      <td>2021-11-06</td>\n",
       "      <td>2</td>\n",
       "      <td>Stay</td>\n",
       "      <td>The Kid LAROI &amp; Justin Bieber</td>\n",
       "      <td>2.0</td>\n",
       "      <td>1</td>\n",
       "      <td>16</td>\n",
       "    </tr>\n",
       "    <tr>\n",
       "      <th>2</th>\n",
       "      <td>2021-11-06</td>\n",
       "      <td>3</td>\n",
       "      <td>Industry Baby</td>\n",
       "      <td>Lil Nas X &amp; Jack Harlow</td>\n",
       "      <td>3.0</td>\n",
       "      <td>1</td>\n",
       "      <td>14</td>\n",
       "    </tr>\n",
       "    <tr>\n",
       "      <th>3</th>\n",
       "      <td>2021-11-06</td>\n",
       "      <td>4</td>\n",
       "      <td>Fancy Like</td>\n",
       "      <td>Walker Hayes</td>\n",
       "      <td>4.0</td>\n",
       "      <td>3</td>\n",
       "      <td>19</td>\n",
       "    </tr>\n",
       "    <tr>\n",
       "      <th>4</th>\n",
       "      <td>2021-11-06</td>\n",
       "      <td>5</td>\n",
       "      <td>Bad Habits</td>\n",
       "      <td>Ed Sheeran</td>\n",
       "      <td>5.0</td>\n",
       "      <td>2</td>\n",
       "      <td>18</td>\n",
       "    </tr>\n",
       "  </tbody>\n",
       "</table>\n",
       "</div>"
      ],
      "text/plain": [
       "         date  rank           song                         artist  last-week  \\\n",
       "0  2021-11-06     1     Easy On Me                          Adele        1.0   \n",
       "1  2021-11-06     2           Stay  The Kid LAROI & Justin Bieber        2.0   \n",
       "2  2021-11-06     3  Industry Baby        Lil Nas X & Jack Harlow        3.0   \n",
       "3  2021-11-06     4     Fancy Like                   Walker Hayes        4.0   \n",
       "4  2021-11-06     5     Bad Habits                     Ed Sheeran        5.0   \n",
       "\n",
       "   peak-rank  weeks-on-board  \n",
       "0          1               3  \n",
       "1          1              16  \n",
       "2          1              14  \n",
       "3          3              19  \n",
       "4          2              18  "
      ]
     },
     "execution_count": 7,
     "metadata": {},
     "output_type": "execute_result"
    }
   ],
   "source": [
    "#Load the Dataset\n",
    "\n",
    "charts_df = pd.read_csv('charts.csv')\n",
    "print(charts_df.info())\n",
    "print(charts_df.describe())\n",
    "charts_df.head()"
   ]
  },
  {
   "cell_type": "code",
   "execution_count": 15,
   "id": "bb01af04",
   "metadata": {},
   "outputs": [
    {
     "name": "stdout",
     "output_type": "stream",
     "text": [
      "<class 'pandas.core.frame.DataFrame'>\n",
      "RangeIndex: 330087 entries, 0 to 330086\n",
      "Data columns (total 7 columns):\n",
      " #   Column          Non-Null Count   Dtype         \n",
      "---  ------          --------------   -----         \n",
      " 0   date            330087 non-null  datetime64[ns]\n",
      " 1   rank            330087 non-null  int64         \n",
      " 2   song            330087 non-null  object        \n",
      " 3   artist          330087 non-null  object        \n",
      " 4   last-week       297775 non-null  float64       \n",
      " 5   peak-rank       330087 non-null  int64         \n",
      " 6   weeks-on-board  330087 non-null  int64         \n",
      "dtypes: datetime64[ns](1), float64(1), int64(3), object(2)\n",
      "memory usage: 17.6+ MB\n",
      "None\n"
     ]
    },
    {
     "data": {
      "text/html": [
       "<div>\n",
       "<style scoped>\n",
       "    .dataframe tbody tr th:only-of-type {\n",
       "        vertical-align: middle;\n",
       "    }\n",
       "\n",
       "    .dataframe tbody tr th {\n",
       "        vertical-align: top;\n",
       "    }\n",
       "\n",
       "    .dataframe thead th {\n",
       "        text-align: right;\n",
       "    }\n",
       "</style>\n",
       "<table border=\"1\" class=\"dataframe\">\n",
       "  <thead>\n",
       "    <tr style=\"text-align: right;\">\n",
       "      <th></th>\n",
       "      <th>date</th>\n",
       "      <th>rank</th>\n",
       "      <th>song</th>\n",
       "      <th>artist</th>\n",
       "      <th>last-week</th>\n",
       "      <th>peak-rank</th>\n",
       "      <th>weeks-on-board</th>\n",
       "    </tr>\n",
       "  </thead>\n",
       "  <tbody>\n",
       "    <tr>\n",
       "      <th>0</th>\n",
       "      <td>2021-11-06</td>\n",
       "      <td>1</td>\n",
       "      <td>Easy On Me</td>\n",
       "      <td>Adele</td>\n",
       "      <td>1.0</td>\n",
       "      <td>1</td>\n",
       "      <td>3</td>\n",
       "    </tr>\n",
       "    <tr>\n",
       "      <th>1</th>\n",
       "      <td>2021-11-06</td>\n",
       "      <td>2</td>\n",
       "      <td>Stay</td>\n",
       "      <td>The Kid LAROI &amp; Justin Bieber</td>\n",
       "      <td>2.0</td>\n",
       "      <td>1</td>\n",
       "      <td>16</td>\n",
       "    </tr>\n",
       "    <tr>\n",
       "      <th>2</th>\n",
       "      <td>2021-11-06</td>\n",
       "      <td>3</td>\n",
       "      <td>Industry Baby</td>\n",
       "      <td>Lil Nas X &amp; Jack Harlow</td>\n",
       "      <td>3.0</td>\n",
       "      <td>1</td>\n",
       "      <td>14</td>\n",
       "    </tr>\n",
       "    <tr>\n",
       "      <th>3</th>\n",
       "      <td>2021-11-06</td>\n",
       "      <td>4</td>\n",
       "      <td>Fancy Like</td>\n",
       "      <td>Walker Hayes</td>\n",
       "      <td>4.0</td>\n",
       "      <td>3</td>\n",
       "      <td>19</td>\n",
       "    </tr>\n",
       "    <tr>\n",
       "      <th>4</th>\n",
       "      <td>2021-11-06</td>\n",
       "      <td>5</td>\n",
       "      <td>Bad Habits</td>\n",
       "      <td>Ed Sheeran</td>\n",
       "      <td>5.0</td>\n",
       "      <td>2</td>\n",
       "      <td>18</td>\n",
       "    </tr>\n",
       "  </tbody>\n",
       "</table>\n",
       "</div>"
      ],
      "text/plain": [
       "        date  rank           song                         artist  last-week  \\\n",
       "0 2021-11-06     1     Easy On Me                          Adele        1.0   \n",
       "1 2021-11-06     2           Stay  The Kid LAROI & Justin Bieber        2.0   \n",
       "2 2021-11-06     3  Industry Baby        Lil Nas X & Jack Harlow        3.0   \n",
       "3 2021-11-06     4     Fancy Like                   Walker Hayes        4.0   \n",
       "4 2021-11-06     5     Bad Habits                     Ed Sheeran        5.0   \n",
       "\n",
       "   peak-rank  weeks-on-board  \n",
       "0          1               3  \n",
       "1          1              16  \n",
       "2          1              14  \n",
       "3          3              19  \n",
       "4          2              18  "
      ]
     },
     "execution_count": 15,
     "metadata": {},
     "output_type": "execute_result"
    }
   ],
   "source": [
    "#Convert \"date\" column to datetime type\n",
    "charts_df['date'] = pd.to_datetime(charts_df['date'])\n",
    "\n",
    "print(charts_df.info())\n",
    "charts_df.head()"
   ]
  },
  {
   "cell_type": "code",
   "execution_count": 54,
   "id": "8c527452",
   "metadata": {},
   "outputs": [
    {
     "name": "stdout",
     "output_type": "stream",
     "text": [
      "All Debuts: 29684 songs\n",
      "Top 10 Debuts: 355 songs\n",
      "11-100 Debuts: 29329 songs\n"
     ]
    }
   ],
   "source": [
    "#Create \"debut_top_10\" DataFrame that only contains data for songs that fit these criteria:\n",
    "#-'weeks-on-board' is '1'\n",
    "#-'rank' is <= 10\n",
    "\n",
    "debut_top_10 = charts_df[(charts_df['weeks-on-board'] == 1) & (charts_df['rank'] <= 10)]\n",
    "\n",
    "\n",
    "#Create \"debut_11_100\" DataFrame that only contains data for songs that fit these criteria:\n",
    "#-'weeks-on-board' is '1'\n",
    "#-'rank' is > 10\n",
    "\n",
    "debut_11_100 = charts_df[(charts_df['weeks-on-board'] == 1) & (charts_df['rank'] > 10)]\n",
    "\n",
    "\n",
    "# Preview the groups\n",
    "print(f\"Top 10 Debuts: {debut_top_10.shape[0]} songs\")\n",
    "print(f\"11-100 Debuts: {debut_11_100.shape[0]} songs\")"
   ]
  },
  {
   "cell_type": "code",
   "execution_count": 19,
   "id": "72fd05ef",
   "metadata": {},
   "outputs": [],
   "source": [
    "#Find the largest 'weeks-on-board' value for songs in a DataFrame. \n",
    "\n",
    "def songLongevity(charts_df, debut_df):\n",
    "    \"\"\"\n",
    "    charts_df: Original dataset containing chart information\n",
    "    debut_df: DataFrame containing songs that should be compared to charts_df\n",
    "      - in this case, we will compare songs in the debut_top_10 or debut_11_100 dfs\n",
    "    \n",
    "    returns a DataFrame containing rows of data for songs during their final appearance on the chart\n",
    "    based on the return of the largest value in 'weeks-on-board' for songs that appear in the debut_df\n",
    "    \"\"\"\n",
    "    \n",
    "    filtered_songs = charts_df[\n",
    "        charts_df['song'].isin(debut_df['song']) & charts_df['artist'].isin(debut_df['artist'])\n",
    "    ]\n",
    "    \n",
    "    last_appearance = filtered_songs.loc[\n",
    "        filtered_songs.groupby(['song', 'artist'])['weeks-on-board'].idxmax()\n",
    "    ]\n",
    "    \n",
    "    return last_appearance"
   ]
  },
  {
   "cell_type": "code",
   "execution_count": 21,
   "id": "dbf64f2e",
   "metadata": {},
   "outputs": [
    {
     "data": {
      "text/html": [
       "<div>\n",
       "<style scoped>\n",
       "    .dataframe tbody tr th:only-of-type {\n",
       "        vertical-align: middle;\n",
       "    }\n",
       "\n",
       "    .dataframe tbody tr th {\n",
       "        vertical-align: top;\n",
       "    }\n",
       "\n",
       "    .dataframe thead th {\n",
       "        text-align: right;\n",
       "    }\n",
       "</style>\n",
       "<table border=\"1\" class=\"dataframe\">\n",
       "  <thead>\n",
       "    <tr style=\"text-align: right;\">\n",
       "      <th></th>\n",
       "      <th>date</th>\n",
       "      <th>rank</th>\n",
       "      <th>song</th>\n",
       "      <th>artist</th>\n",
       "      <th>last-week</th>\n",
       "      <th>peak-rank</th>\n",
       "      <th>weeks-on-board</th>\n",
       "    </tr>\n",
       "  </thead>\n",
       "  <tbody>\n",
       "    <tr>\n",
       "      <th>19795</th>\n",
       "      <td>2018-01-27</td>\n",
       "      <td>96</td>\n",
       "      <td>...Ready For It?</td>\n",
       "      <td>Taylor Swift</td>\n",
       "      <td>80.0</td>\n",
       "      <td>4</td>\n",
       "      <td>20</td>\n",
       "    </tr>\n",
       "    <tr>\n",
       "      <th>7845</th>\n",
       "      <td>2020-05-09</td>\n",
       "      <td>46</td>\n",
       "      <td>10,000 Hours</td>\n",
       "      <td>Dan + Shay &amp; Justin Bieber</td>\n",
       "      <td>41.0</td>\n",
       "      <td>4</td>\n",
       "      <td>30</td>\n",
       "    </tr>\n",
       "    <tr>\n",
       "      <th>124148</th>\n",
       "      <td>1998-01-24</td>\n",
       "      <td>49</td>\n",
       "      <td>2 Become 1</td>\n",
       "      <td>Spice Girls</td>\n",
       "      <td>44.0</td>\n",
       "      <td>4</td>\n",
       "      <td>24</td>\n",
       "    </tr>\n",
       "    <tr>\n",
       "      <th>22249</th>\n",
       "      <td>2017-08-05</td>\n",
       "      <td>50</td>\n",
       "      <td>24K Magic</td>\n",
       "      <td>Bruno Mars</td>\n",
       "      <td>48.0</td>\n",
       "      <td>4</td>\n",
       "      <td>41</td>\n",
       "    </tr>\n",
       "    <tr>\n",
       "      <th>60971</th>\n",
       "      <td>2010-03-06</td>\n",
       "      <td>72</td>\n",
       "      <td>3</td>\n",
       "      <td>Britney Spears</td>\n",
       "      <td>63.0</td>\n",
       "      <td>1</td>\n",
       "      <td>20</td>\n",
       "    </tr>\n",
       "  </tbody>\n",
       "</table>\n",
       "</div>"
      ],
      "text/plain": [
       "             date  rank              song                      artist  \\\n",
       "19795  2018-01-27    96  ...Ready For It?                Taylor Swift   \n",
       "7845   2020-05-09    46      10,000 Hours  Dan + Shay & Justin Bieber   \n",
       "124148 1998-01-24    49        2 Become 1                 Spice Girls   \n",
       "22249  2017-08-05    50         24K Magic                  Bruno Mars   \n",
       "60971  2010-03-06    72                 3              Britney Spears   \n",
       "\n",
       "        last-week  peak-rank  weeks-on-board  \n",
       "19795        80.0          4              20  \n",
       "7845         41.0          4              30  \n",
       "124148       44.0          4              24  \n",
       "22249        48.0          4              41  \n",
       "60971        63.0          1              20  "
      ]
     },
     "execution_count": 21,
     "metadata": {},
     "output_type": "execute_result"
    }
   ],
   "source": [
    "top10_last_apperance_df = songLongevity(charts_df, debut_top_10)\n",
    "top10_last_apperance_df.head()"
   ]
  },
  {
   "cell_type": "code",
   "execution_count": 22,
   "id": "c42dc664",
   "metadata": {},
   "outputs": [
    {
     "data": {
      "text/html": [
       "<div>\n",
       "<style scoped>\n",
       "    .dataframe tbody tr th:only-of-type {\n",
       "        vertical-align: middle;\n",
       "    }\n",
       "\n",
       "    .dataframe tbody tr th {\n",
       "        vertical-align: top;\n",
       "    }\n",
       "\n",
       "    .dataframe thead th {\n",
       "        text-align: right;\n",
       "    }\n",
       "</style>\n",
       "<table border=\"1\" class=\"dataframe\">\n",
       "  <thead>\n",
       "    <tr style=\"text-align: right;\">\n",
       "      <th></th>\n",
       "      <th>date</th>\n",
       "      <th>rank</th>\n",
       "      <th>song</th>\n",
       "      <th>artist</th>\n",
       "      <th>last-week</th>\n",
       "      <th>peak-rank</th>\n",
       "      <th>weeks-on-board</th>\n",
       "    </tr>\n",
       "  </thead>\n",
       "  <tbody>\n",
       "    <tr>\n",
       "      <th>163090</th>\n",
       "      <td>1990-08-11</td>\n",
       "      <td>91</td>\n",
       "      <td>\"B\" Girls</td>\n",
       "      <td>Young And Restless</td>\n",
       "      <td>83.0</td>\n",
       "      <td>54</td>\n",
       "      <td>15</td>\n",
       "    </tr>\n",
       "    <tr>\n",
       "      <th>252937</th>\n",
       "      <td>1973-05-19</td>\n",
       "      <td>51</td>\n",
       "      <td>\"Cherry Cherry\" from Hot August Night</td>\n",
       "      <td>Neil Diamond</td>\n",
       "      <td>31.0</td>\n",
       "      <td>31</td>\n",
       "      <td>10</td>\n",
       "    </tr>\n",
       "    <tr>\n",
       "      <th>250048</th>\n",
       "      <td>1973-12-08</td>\n",
       "      <td>62</td>\n",
       "      <td>\"Having A Party\" Medley</td>\n",
       "      <td>The Ovations (Featuring Louis Williams)</td>\n",
       "      <td>56.0</td>\n",
       "      <td>56</td>\n",
       "      <td>9</td>\n",
       "    </tr>\n",
       "    <tr>\n",
       "      <th>249028</th>\n",
       "      <td>1974-02-16</td>\n",
       "      <td>42</td>\n",
       "      <td>\"Joy\" Pt. I</td>\n",
       "      <td>Isaac Hayes</td>\n",
       "      <td>30.0</td>\n",
       "      <td>30</td>\n",
       "      <td>9</td>\n",
       "    </tr>\n",
       "    <tr>\n",
       "      <th>232582</th>\n",
       "      <td>1977-04-16</td>\n",
       "      <td>83</td>\n",
       "      <td>\"Roots\" Medley</td>\n",
       "      <td>Quincy Jones</td>\n",
       "      <td>57.0</td>\n",
       "      <td>57</td>\n",
       "      <td>7</td>\n",
       "    </tr>\n",
       "  </tbody>\n",
       "</table>\n",
       "</div>"
      ],
      "text/plain": [
       "             date  rank                                   song  \\\n",
       "163090 1990-08-11    91                              \"B\" Girls   \n",
       "252937 1973-05-19    51  \"Cherry Cherry\" from Hot August Night   \n",
       "250048 1973-12-08    62                \"Having A Party\" Medley   \n",
       "249028 1974-02-16    42                            \"Joy\" Pt. I   \n",
       "232582 1977-04-16    83                         \"Roots\" Medley   \n",
       "\n",
       "                                         artist  last-week  peak-rank  \\\n",
       "163090                       Young And Restless       83.0         54   \n",
       "252937                             Neil Diamond       31.0         31   \n",
       "250048  The Ovations (Featuring Louis Williams)       56.0         56   \n",
       "249028                              Isaac Hayes       30.0         30   \n",
       "232582                             Quincy Jones       57.0         57   \n",
       "\n",
       "        weeks-on-board  \n",
       "163090              15  \n",
       "252937              10  \n",
       "250048               9  \n",
       "249028               9  \n",
       "232582               7  "
      ]
     },
     "execution_count": 22,
     "metadata": {},
     "output_type": "execute_result"
    }
   ],
   "source": [
    "bottom90_last_apperance_df = songLongevity(charts_df, debut_11_100)\n",
    "bottom90_last_apperance_df.head()"
   ]
  },
  {
   "cell_type": "markdown",
   "id": "e66a7b77",
   "metadata": {},
   "source": [
    "plt.figure(figsize=(12, 6))\n",
    "top10_last_apperance_df['weeks-on-board'].plot(kind='hist', bins=60, title='Weeks on Board Distribution')\n",
    "plt.xlabel('Weeks on Board')\n",
    "plt.show()"
   ]
  },
  {
   "cell_type": "markdown",
   "id": "874881f5",
   "metadata": {},
   "source": [
    "plt.figure(figsize=(12, 6))\n",
    "bottom90_last_apperance_df['weeks-on-board'].plot(kind='hist', bins=60, title='Weeks on Board Distribution')\n",
    "plt.xlabel('Weeks on Board')\n",
    "plt.show()"
   ]
  },
  {
   "cell_type": "markdown",
   "id": "7a9abf2a",
   "metadata": {},
   "source": [
    "def plotLongevityCount(debut_df):\n",
    "    \"\"\"\n",
    "    debut_df: DataFrame that has been filtered by debut ranking\n",
    "    \n",
    "    returns a Series representing the frequency of each 'weeks-on-board'value\n",
    "    \"\"\"\n",
    "    song_longevity = debut_df.groupby(['song', 'artist'])['weeks-on-board'].max()\n",
    "    longevity_count = Counter(song_longevity)\n",
    "    \n",
    "    frequency_series = pd.Series(longevity_count).sort_index()\n",
    "    \n",
    "    plt.figure(figsize=(10, 6))\n",
    "    frequency_series.plot(kind = 'hist', bins = 60, title = 'Weeks on Board Distribution')\n",
    "    plt.xlabel('Weeks on Board')\n",
    "    plt.ylabel('Frequency of Songs')\n",
    "    plt.title('Frequency of Songs by Weeks on Chart')\n",
    "    plt.show()\n",
    "    \n",
    "    return frequency_series"
   ]
  },
  {
   "cell_type": "markdown",
   "id": "947c7291",
   "metadata": {},
   "source": [
    "plotLongevityCount(debut_top_10)"
   ]
  },
  {
   "cell_type": "code",
   "execution_count": 42,
   "id": "033611b0",
   "metadata": {},
   "outputs": [],
   "source": [
    "import thinkplot\n",
    "import thinkstats2"
   ]
  },
  {
   "cell_type": "code",
   "execution_count": 49,
   "id": "53bc6c40",
   "metadata": {},
   "outputs": [],
   "source": [
    "def findLongevityCount(debut_df):\n",
    "    \"\"\"\n",
    "    debut_df: DataFrame that has been filtered by debut ranking\n",
    "    \n",
    "    returns dictionary of key, value pairs ('weeks-on-board', count)\n",
    "    \"\"\"\n",
    "    longevity_count = debut_df['weeks-on-board'].value_counts().to_dict()\n",
    "    \n",
    "    return longevity_count"
   ]
  },
  {
   "cell_type": "code",
   "execution_count": 52,
   "id": "1f593ecf",
   "metadata": {},
   "outputs": [
    {
     "data": {
      "image/png": "[encoded data removed]",
      "text/plain": [
       "<Figure size 432x288 with 1 Axes>"
      ]
     },
     "metadata": {
      "needs_background": "light"
     },
     "output_type": "display_data"
    }
   ],
   "source": [
    "top10_longevity = findLongevityCount(top10_last_apperance_df)\n",
    "\n",
    "\n",
    "hist = thinkstats2.Hist(top10_longevity)\n",
    "thinkplot.Hist(hist)\n",
    "thinkplot.Config(xlabel='Weeks on Board', ylabel='count')"
   ]
  },
  {
   "cell_type": "code",
   "execution_count": 53,
   "id": "3f8390b0",
   "metadata": {},
   "outputs": [
    {
     "data": {
      "image/png": "[encoded data removed]",
      "text/plain": [
       "<Figure size 432x288 with 1 Axes>"
      ]
     },
     "metadata": {
      "needs_background": "light"
     },
     "output_type": "display_data"
    }
   ],
   "source": [
    "bottom90_longevity = findLongevityCount(bottom90_last_apperance_df)\n",
    "\n",
    "hist = thinkstats2.Hist(bottom90_longevity)\n",
    "thinkplot.Hist(hist)\n",
    "thinkplot.Config(xlabel='Weeks on Board', ylabel='count')"
   ]
  },
  {
   "cell_type": "code",
   "execution_count": 58,
   "id": "305b1151",
   "metadata": {},
   "outputs": [
    {
     "data": {
      "image/png": "[encoded data removed]",
      "text/plain": [
       "<Figure size 432x288 with 1 Axes>"
      ]
     },
     "metadata": {
      "needs_background": "light"
     },
     "output_type": "display_data"
    }
   ],
   "source": [
    "all_longevity = findLongevityCount(all_last_apperance_df)\n",
    "\n",
    "hist = thinkstats2.Hist(all_longevity)\n",
    "thinkplot.Hist(hist)\n",
    "thinkplot.Config(xlabel='Weeks on Board', ylabel='count')"
   ]
  },
  {
   "cell_type": "code",
   "execution_count": null,
   "id": "a6dc3790",
   "metadata": {},
   "outputs": [],
   "source": []
  }
 ],
 "metadata": {
  "kernelspec": {
   "display_name": "Python 3 (ipykernel)",
   "language": "python",
   "name": "python3"
  },
  "language_info": {
   "codemirror_mode": {
    "name": "ipython",
    "version": 3
   },
   "file_extension": ".py",
   "mimetype": "text/x-python",
   "name": "python",
   "nbconvert_exporter": "python",
   "pygments_lexer": "ipython3",
   "version": "3.9.7"
  }
 },
 "nbformat": 4,
 "nbformat_minor": 5
}
